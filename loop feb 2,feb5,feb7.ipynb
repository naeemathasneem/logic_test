{
 "cells": [
  {
   "cell_type": "markdown",
   "id": "3ed9dbc7",
   "metadata": {},
   "source": [
    "# while and for loop\n",
    "#while loop"
   ]
  },
  {
   "cell_type": "code",
   "execution_count": 3,
   "id": "0b0b6d26",
   "metadata": {},
   "outputs": [
    {
     "name": "stdout",
     "output_type": "stream",
     "text": [
      "1\n",
      "2\n",
      "3\n",
      "4\n",
      "5\n",
      "finished\n"
     ]
    }
   ],
   "source": [
    "#program to display numbers from 1 to 5\n",
    "\n",
    "i = 1\n",
    "n = 5\n",
    "\n",
    "while i<=n:\n",
    "    print(i)\n",
    "    i= i+1\n",
    "\n",
    "print(\"finished\")"
   ]
  },
  {
   "cell_type": "code",
   "execution_count": 1,
   "id": "0f1e5063",
   "metadata": {},
   "outputs": [
    {
     "name": "stdout",
     "output_type": "stream",
     "text": [
      "Total: 5050\n"
     ]
    }
   ],
   "source": [
    "#write a while loop that add all numbers upto 100 (inclusive)\n",
    "\n",
    "i = 1\n",
    "n = 100\n",
    "\n",
    "total = 0\n",
    "while i<=n:\n",
    "    total = total +i\n",
    "    i = i + 1\n",
    "print(\"Total:\",total)"
   ]
  },
  {
   "cell_type": "code",
   "execution_count": null,
   "id": "8dc2334e",
   "metadata": {},
   "outputs": [],
   "source": []
  },
  {
   "cell_type": "code",
   "execution_count": 2,
   "id": "2c7a47b2",
   "metadata": {},
   "outputs": [
    {
     "name": "stdout",
     "output_type": "stream",
     "text": [
      "enter a number:365\n",
      "num: 365\n",
      "rem: 5\n",
      "rev: 5\n",
      "=============\n",
      "num: 36\n",
      "rem: 6\n",
      "rev: 56\n",
      "=============\n",
      "num: 3\n",
      "rem: 3\n",
      "rev: 563\n",
      "=============\n",
      "reversed number is : 563\n"
     ]
    }
   ],
   "source": [
    "# write a python program to reverse a number\n",
    "\n",
    "num = int(input(\"enter a number:\"))\n",
    "rev = 0\n",
    "\n",
    "while (num != 0):\n",
    "    print(\"num:\",num)\n",
    "    rem = num % 10\n",
    "    print(\"rem:\",rem)\n",
    "    rev = rev*10+rem\n",
    "    print(\"rev:\",rev)\n",
    "    num = num//10\n",
    "    print(\"=============\")\n",
    "print(\"reversed number is :\",rev)"
   ]
  },
  {
   "cell_type": "code",
   "execution_count": 9,
   "id": "bdd8d465",
   "metadata": {},
   "outputs": [
    {
     "name": "stdout",
     "output_type": "stream",
     "text": [
      "10\n",
      "9\n",
      "8\n",
      "7\n",
      "6\n",
      "5\n",
      "4\n",
      "3\n",
      "2\n",
      "1\n"
     ]
    }
   ],
   "source": [
    "#write a program to get n natuaral numbers in descending order using a while loop forgiven range (1 to 10)\n",
    "\n",
    "i = 1\n",
    "n = 10 \n",
    "while n>=i:\n",
    "    print(n)\n",
    "    n=n-1"
   ]
  },
  {
   "cell_type": "code",
   "execution_count": 10,
   "id": "86c16e92",
   "metadata": {},
   "outputs": [
    {
     "name": "stdout",
     "output_type": "stream",
     "text": [
      "2\n",
      "4\n",
      "6\n",
      "3\n",
      "8\n",
      "9\n"
     ]
    }
   ],
   "source": [
    "# looping through list\n",
    "mylist = [2,4,6,3,8,9]\n",
    "i = 0\n",
    "while i < len(mylist):\n",
    "    print(mylist[i])\n",
    "    i=i+1"
   ]
  },
  {
   "cell_type": "code",
   "execution_count": 2,
   "id": "1de260d3",
   "metadata": {},
   "outputs": [
    {
     "name": "stdout",
     "output_type": "stream",
     "text": [
      "[36, 9, 36, 9, 49, 64]\n"
     ]
    }
   ],
   "source": [
    "mylist = [6,3,6,3,7,8]\n",
    "\n",
    "i=0\n",
    "list2 = []\n",
    "\n",
    "while i<len(mylist):\n",
    "    x = mylist[i]*mylist[i]\n",
    "    list2.append(x)\n",
    "    i = i+1\n",
    "print(list2)"
   ]
  },
  {
   "cell_type": "code",
   "execution_count": 2,
   "id": "f1ee533a",
   "metadata": {},
   "outputs": [
    {
     "name": "stdout",
     "output_type": "stream",
     "text": [
      "enter a number:5\n",
      "enter a number:7\n",
      "enter a number:6\n",
      "enter a number:1\n",
      "enter a number:0\n",
      "total= 19\n"
     ]
    }
   ],
   "source": [
    "# program to calculate the sum of numbers,until the user enters zero\n",
    "\n",
    "total = 0\n",
    "number = int(input(\"enter a number:\"))\n",
    "\n",
    "while number != 0:\n",
    "    total+= number # total = total + number\n",
    "    \n",
    "    number = int(input(\"enter a number:\"))\n",
    "print(\"total=\",total)"
   ]
  },
  {
   "cell_type": "code",
   "execution_count": 1,
   "id": "e3f77bf4",
   "metadata": {},
   "outputs": [
    {
     "name": "stdout",
     "output_type": "stream",
     "text": [
      "enter a number:5\n",
      "factorial of 5 is 120\n"
     ]
    }
   ],
   "source": [
    "# factorial program\n",
    "num = int(input(\"enter a number:\"))\n",
    "fac = 1\n",
    "i = 1\n",
    "\n",
    "while i<=num:\n",
    "    fac = fac*i\n",
    "    i = i+1\n",
    "print(\"factorial of\",num,\"is\",fac)"
   ]
  },
  {
   "cell_type": "code",
   "execution_count": 8,
   "id": "9ff1b61c",
   "metadata": {},
   "outputs": [
    {
     "name": "stdout",
     "output_type": "stream",
     "text": [
      "inside the loop\n",
      "inside the loop\n",
      "inside the loop\n",
      "inside the loop\n",
      "outside the loop\n"
     ]
    }
   ],
   "source": [
    "counter = 0 \n",
    "while counter <= 3:\n",
    "    print(\"inside the loop\")\n",
    "    counter = counter + 1\n",
    "else:\n",
    "    print(\"outside the loop\")"
   ]
  },
  {
   "cell_type": "markdown",
   "id": "d29ce5a9",
   "metadata": {},
   "source": [
    "# the break statment"
   ]
  },
  {
   "cell_type": "markdown",
   "id": "5166f57e",
   "metadata": {},
   "source": [
    "with the braek statement we can stop the loop even if the while condition is true"
   ]
  },
  {
   "cell_type": "code",
   "execution_count": 1,
   "id": "12c85b1b",
   "metadata": {},
   "outputs": [
    {
     "name": "stdout",
     "output_type": "stream",
     "text": [
      "1\n",
      "2\n",
      "3\n",
      "4\n",
      "5\n",
      "25\n"
     ]
    }
   ],
   "source": [
    "i = 1 \n",
    "while i<8:\n",
    "    print(i)\n",
    "    if i == 5:\n",
    "        print(i*i)\n",
    "        break\n",
    "    i += 1 #i =i+1\n",
    "    "
   ]
  },
  {
   "cell_type": "markdown",
   "id": "ed71913f",
   "metadata": {},
   "source": [
    "# continue statemnet"
   ]
  },
  {
   "cell_type": "markdown",
   "id": "7084d902",
   "metadata": {},
   "source": [
    "with the continue statement we can stop the current itaration, and continue with the next"
   ]
  },
  {
   "cell_type": "code",
   "execution_count": 11,
   "id": "e143cf2f",
   "metadata": {},
   "outputs": [
    {
     "name": "stdout",
     "output_type": "stream",
     "text": [
      "1\n",
      "3\n",
      "6\n",
      "8\n",
      "9\n",
      "11\n",
      "13\n",
      "14\n",
      "15\n"
     ]
    }
   ],
   "source": [
    " i= 0\n",
    "list1 = [ 2 ,4 ,5, 7,10,12]\n",
    "while i<15:\n",
    "    i+=1\n",
    "    if i in list1:\n",
    "        continue\n",
    "    print(i)"
   ]
  },
  {
   "cell_type": "code",
   "execution_count": 6,
   "id": "70427089",
   "metadata": {},
   "outputs": [
    {
     "name": "stdout",
     "output_type": "stream",
     "text": [
      "enter the length of list =4\n",
      "enter a number 9\n",
      "enter a number 8\n",
      "enter a number 7\n",
      "enter a number 6\n",
      "[9, 8, 7, 6] is my list\n",
      "[8, 6] are even\n",
      "[9, 7] are odd\n"
     ]
    }
   ],
   "source": [
    "length = int(input(\"enter the length of list =\"))\n",
    "i = 0 \n",
    "mylist = []\n",
    "while i<length:\n",
    "    num = int(input(\"enter a number \"))\n",
    "    i += 1\n",
    "    mylist.append(num)\n",
    "print(mylist,\"is my list\")\n",
    "x = []\n",
    "y = []\n",
    "for num in mylist:\n",
    "    \n",
    "    \n",
    "    if num % 2 ==0:\n",
    "        x.append(num)\n",
    "        \n",
    "    else:\n",
    "        y.append(num)\n",
    "print(x,\"are even\")\n",
    "print(y,\"are odd\")\n",
    "\n"
   ]
  },
  {
   "cell_type": "markdown",
   "id": "34abdb64",
   "metadata": {},
   "source": [
    "# python for loops"
   ]
  },
  {
   "cell_type": "code",
   "execution_count": 1,
   "id": "5c085f03",
   "metadata": {},
   "outputs": [
    {
     "name": "stdout",
     "output_type": "stream",
     "text": [
      "b\n",
      "a\n",
      "n\n",
      "a\n",
      "n\n",
      "a\n"
     ]
    }
   ],
   "source": [
    "for x in \"banana\":\n",
    "    print(x)"
   ]
  },
  {
   "cell_type": "code",
   "execution_count": 3,
   "id": "02a52caa",
   "metadata": {},
   "outputs": [
    {
     "name": "stdout",
     "output_type": "stream",
     "text": [
      "apple\n",
      "banana\n"
     ]
    }
   ],
   "source": [
    "fruits = [\"apple\",\"banana\",\"cherry\",\"orange\"]\n",
    "for x in fruits:\n",
    "    #print(x)\n",
    "    if x == \"cherry\":\n",
    "        break\n",
    "    print(x)"
   ]
  },
  {
   "cell_type": "code",
   "execution_count": 4,
   "id": "45741b16",
   "metadata": {},
   "outputs": [
    {
     "name": "stdout",
     "output_type": "stream",
     "text": [
      "apple\n",
      "banana\n",
      "orange\n"
     ]
    }
   ],
   "source": [
    "fruits = [\"apple\",\"banana\",\"cherry\",\"orange\"]\n",
    "for x in fruits:\n",
    "    #print(x)\n",
    "    if x == \"cherry\":\n",
    "        continue\n",
    "    print(x)"
   ]
  },
  {
   "cell_type": "markdown",
   "id": "6ea6d90e",
   "metadata": {},
   "source": [
    "# range in for loop"
   ]
  },
  {
   "cell_type": "code",
   "execution_count": 5,
   "id": "07cdaff0",
   "metadata": {},
   "outputs": [
    {
     "name": "stdout",
     "output_type": "stream",
     "text": [
      "0\n",
      "1\n",
      "2\n",
      "3\n",
      "4\n",
      "5\n",
      "6\n",
      "7\n",
      "8\n",
      "9\n"
     ]
    }
   ],
   "source": [
    "for x in range(10): \n",
    "    print(x)"
   ]
  },
  {
   "cell_type": "code",
   "execution_count": 6,
   "id": "cabf4ad0",
   "metadata": {},
   "outputs": [
    {
     "name": "stdout",
     "output_type": "stream",
     "text": [
      "2\n",
      "3\n",
      "4\n",
      "5\n",
      "6\n",
      "7\n",
      "8\n",
      "9\n"
     ]
    }
   ],
   "source": [
    "for x in range(2,10): \n",
    "    print(x)"
   ]
  },
  {
   "cell_type": "code",
   "execution_count": 7,
   "id": "23408cdf",
   "metadata": {},
   "outputs": [
    {
     "name": "stdout",
     "output_type": "stream",
     "text": [
      "2\n",
      "5\n",
      "8\n"
     ]
    }
   ],
   "source": [
    "for x in range(2,10,3): #range(start,end,step)\n",
    "    print(x)"
   ]
  },
  {
   "cell_type": "code",
   "execution_count": 8,
   "id": "702daef2",
   "metadata": {},
   "outputs": [
    {
     "name": "stdout",
     "output_type": "stream",
     "text": [
      "2\n",
      "3\n",
      "4\n",
      "5\n",
      "6\n",
      "7\n",
      "8\n",
      "9\n",
      "finally finished\n"
     ]
    }
   ],
   "source": [
    "for x in range(2,10): \n",
    "    print(x)\n",
    "else :\n",
    "    print(\"finally finished\")"
   ]
  },
  {
   "cell_type": "code",
   "execution_count": 10,
   "id": "44281b21",
   "metadata": {},
   "outputs": [
    {
     "name": "stdout",
     "output_type": "stream",
     "text": [
      "red apple\n",
      "red orange\n",
      "red cherry\n",
      "---------------\n",
      "big apple\n",
      "big orange\n",
      "big cherry\n",
      "---------------\n",
      "tasty apple\n",
      "tasty orange\n",
      "tasty cherry\n",
      "---------------\n"
     ]
    }
   ],
   "source": [
    "colours = [ \"red\",\"big\",\"tasty\"]\n",
    "fruits = [\"apple\",\"orange\",\"cherry\"]\n",
    "for x in colours:\n",
    "    for y in fruits:\n",
    "        print(x,y)\n",
    "    print(\"---------------\")"
   ]
  },
  {
   "cell_type": "code",
   "execution_count": 13,
   "id": "dc2170f5",
   "metadata": {},
   "outputs": [
    {
     "name": "stdout",
     "output_type": "stream",
     "text": [
      "sum of squares is : 774\n"
     ]
    }
   ],
   "source": [
    "#code to find the sum of squares of each element of the list using for loop\n",
    "\n",
    "#creating the list of numbers\n",
    "numbers = [3, 5,23,6,5,1,2,9,8]\n",
    "\n",
    "#initializing a variable that will store the sum\n",
    "sum_ = 0\n",
    "#using for loop to iterate over the list \n",
    "for num in numbers:\n",
    "    sqr = num**2\n",
    "    sum_ = sum_+sqr\n",
    "print(\"sum of squares is :\",sum_)"
   ]
  },
  {
   "cell_type": "code",
   "execution_count": 15,
   "id": "4de72b99",
   "metadata": {},
   "outputs": [
    {
     "name": "stdout",
     "output_type": "stream",
     "text": [
      "11 is a prime number\n",
      "13 is a prime number\n",
      "17 is a prime number\n",
      "19 is a prime number\n"
     ]
    }
   ],
   "source": [
    "#searches for prime numbers from 10 to 20\n",
    "for num in range (10,20):\n",
    "    for i in range(2,num):\n",
    "        if num % i == 0:\n",
    "            break\n",
    "    else:\n",
    "        print(num,\"is a prime number\")"
   ]
  },
  {
   "cell_type": "code",
   "execution_count": 2,
   "id": "c70909b3",
   "metadata": {},
   "outputs": [
    {
     "name": "stdout",
     "output_type": "stream",
     "text": [
      "1 x 6 = 6\n",
      "2 x 6 = 12\n",
      "3 x 6 = 18\n",
      "4 x 6 = 24\n",
      "5 x 6 = 30\n",
      "6 x 6 = 36\n",
      "7 x 6 = 42\n",
      "8 x 6 = 48\n",
      "9 x 6 = 54\n",
      "10 x 6 = 60\n"
     ]
    }
   ],
   "source": [
    "#programe to print a multiplication table for a given number\n",
    "n = 6\n",
    "\n",
    "for i in range (1,11):\n",
    "    product = n*i\n",
    "    print(\"%d x %d = %d\"% (i,n,product))"
   ]
  },
  {
   "cell_type": "code",
   "execution_count": 3,
   "id": "21e552d9",
   "metadata": {},
   "outputs": [
    {
     "name": "stdout",
     "output_type": "stream",
     "text": [
      "1 \n",
      "1 2 \n",
      "1 2 3 \n",
      "1 2 3 4 \n",
      "1 2 3 4 5 \n"
     ]
    }
   ],
   "source": [
    "#decide the row count.(above the pattern containing 5 rows)\n",
    "row = 5\n",
    "#start = 1\n",
    "#stop = row + 1\n",
    "#step = 1\n",
    "#run loop 5 times\n",
    "\n",
    "for i in range (1, row +1):\n",
    "    for j in range(1,i+1): #run inner loop i+1times\n",
    "        print(j,end =\" \")\n",
    "    print()  #empty line after new row"
   ]
  },
  {
   "cell_type": "code",
   "execution_count": 4,
   "id": "da893fbb",
   "metadata": {},
   "outputs": [
    {
     "name": "stdout",
     "output_type": "stream",
     "text": [
      "1\n",
      "\n",
      "1\n",
      "2\n",
      "\n",
      "1\n",
      "2\n",
      "3\n",
      "\n",
      "1\n",
      "2\n",
      "3\n",
      "4\n",
      "\n",
      "1\n",
      "2\n",
      "3\n",
      "4\n",
      "5\n",
      "\n"
     ]
    }
   ],
   "source": [
    "#decide the row count.(above the pattern containing 5 rows)\n",
    "row = 5\n",
    "#start = 1\n",
    "#stop = row + 1\n",
    "#step = 1\n",
    "#run loop 5 times\n",
    "\n",
    "for i in range (1, row +1):\n",
    "    for j in range(1,i+1): #run inner loop i+1times\n",
    "        print(j,) #without end =\" \"\n",
    "    print()  #empty line after new row"
   ]
  },
  {
   "cell_type": "code",
   "execution_count": 5,
   "id": "22ddb146",
   "metadata": {},
   "outputs": [
    {
     "name": "stdout",
     "output_type": "stream",
     "text": [
      "4 3 2 1 \n",
      "4 3 2 1 \n",
      "4 3 2 1 \n",
      "4 3 2 1 \n",
      "4 3 2 1 \n",
      "4 3 2 1 \n"
     ]
    }
   ],
   "source": [
    "n = 5 \n",
    "k = 5\n",
    "for i in range (0,n+1):\n",
    "    for j in range (k-1,0,-1):\n",
    "        print(j,end =\" \")\n",
    "    print()"
   ]
  },
  {
   "cell_type": "code",
   "execution_count": 6,
   "id": "95943ee9",
   "metadata": {},
   "outputs": [
    {
     "name": "stdout",
     "output_type": "stream",
     "text": [
      "5 4 3 2 1 \n",
      "4 3 2 1 \n",
      "3 2 1 \n",
      "2 1 \n",
      "1 \n",
      "\n"
     ]
    }
   ],
   "source": [
    "n = 5 \n",
    "k = 5\n",
    "for i in range (0,n+1):\n",
    "    for j in range (k-i,0,-1): # i\n",
    "        print(j,end =\" \")\n",
    "    print()"
   ]
  },
  {
   "cell_type": "code",
   "execution_count": 7,
   "id": "58ac296d",
   "metadata": {},
   "outputs": [
    {
     "name": "stdout",
     "output_type": "stream",
     "text": [
      "0 0 0 0 0 \n",
      "1 1 1 1 \n",
      "2 2 2 \n",
      "3 3 \n",
      "4 \n",
      "\n"
     ]
    }
   ],
   "source": [
    "n = 5 \n",
    "k = 5\n",
    "for i in range (0,n+1):\n",
    "    for j in range (k-i,0,-1):\n",
    "        print(i,end =\" \")\n",
    "    print()"
   ]
  },
  {
   "cell_type": "code",
   "execution_count": 8,
   "id": "e2cde6ad",
   "metadata": {},
   "outputs": [
    {
     "name": "stdout",
     "output_type": "stream",
     "text": [
      "* * * * * \n",
      "* * * * \n",
      "* * * \n",
      "* * \n",
      "* \n",
      "\n"
     ]
    }
   ],
   "source": [
    "n = 5 \n",
    "k = 5\n",
    "for i in range (0,n+1):\n",
    "    for j in range (k-i,0,-1):\n",
    "        print(\"*\",end =\" \")\n",
    "    print()"
   ]
  },
  {
   "cell_type": "code",
   "execution_count": 12,
   "id": "7c4e5d3d",
   "metadata": {},
   "outputs": [
    {
     "name": "stdout",
     "output_type": "stream",
     "text": [
      "* \n",
      "* * \n",
      "* * * \n",
      "* * * * \n",
      "* * * * * \n",
      "* * * * \n",
      "* * * \n",
      "* * \n",
      "* \n",
      "\n"
     ]
    }
   ],
   "source": [
    "n = 5 \n",
    "for i in range (0,row):\n",
    "    for j in range (0,i+1):\n",
    "        print(\"*\",end =\" \")\n",
    "    print()\n",
    "for i in range (row,0,-1):\n",
    "    for j in range (0,i-1):\n",
    "        print(\"*\",end =\" \")\n",
    "    print()"
   ]
  },
  {
   "cell_type": "code",
   "execution_count": null,
   "id": "09faa095",
   "metadata": {},
   "outputs": [],
   "source": []
  },
  {
   "cell_type": "markdown",
   "id": "62526dcc",
   "metadata": {},
   "source": [
    "# task"
   ]
  },
  {
   "cell_type": "code",
   "execution_count": 28,
   "id": "e1a9c950",
   "metadata": {},
   "outputs": [
    {
     "name": "stdout",
     "output_type": "stream",
     "text": [
      "enter a string :i am 24 years old\n",
      "number of digits : 2\n",
      "number of letters : 11\n"
     ]
    }
   ],
   "source": [
    "#program that accept a string and calculate the number of digits and letters\n",
    "s = input(\"enter a string :\")\n",
    "letters= 0\n",
    "digits =0\n",
    "for i in s:\n",
    "    if i.isdigit():\n",
    "        digits += 1\n",
    "    elif i.isalpha():\n",
    "        letters +=1\n",
    "    else:\n",
    "        pass\n",
    "    \n",
    "print(\"number of digits :\",digits)\n",
    "print(\"number of letters :\",letters)"
   ]
  },
  {
   "cell_type": "markdown",
   "id": "b0571dbe",
   "metadata": {},
   "source": [
    "# list comprehension"
   ]
  },
  {
   "cell_type": "code",
   "execution_count": 4,
   "id": "a5d5305e",
   "metadata": {},
   "outputs": [
    {
     "name": "stdout",
     "output_type": "stream",
     "text": [
      "['apple', 'banana', 'mango']\n"
     ]
    }
   ],
   "source": [
    "fruits = [\"apple\",\"banana\",\"cherry\",\"kiwi\",\"mango\"]\n",
    "newlist = []\n",
    "for x in fruits :\n",
    "    if \"a\" in x:\n",
    "        newlist.append(x)\n",
    "print(newlist)"
   ]
  },
  {
   "cell_type": "code",
   "execution_count": 5,
   "id": "ee9972ef",
   "metadata": {},
   "outputs": [
    {
     "name": "stdout",
     "output_type": "stream",
     "text": [
      "['apple', 'banana', 'mango']\n"
     ]
    }
   ],
   "source": [
    "fruits = [\"apple\",\"banana\",\"cherry\",\"kiwi\",\"mango\"]\n",
    "\n",
    "newlist = [x for x in fruits if \"a\" in x]\n",
    "\n",
    "print(newlist)"
   ]
  },
  {
   "cell_type": "markdown",
   "id": "428f5b25",
   "metadata": {},
   "source": [
    "# the syntax"
   ]
  },
  {
   "cell_type": "markdown",
   "id": "3ba218c0",
   "metadata": {},
   "source": [
    "newlist = [expression for item in iterable if condition == True]\n",
    "\n",
    "The return value is anew list ,leaving the old list unchanged"
   ]
  },
  {
   "cell_type": "code",
   "execution_count": 7,
   "id": "1230824e",
   "metadata": {},
   "outputs": [
    {
     "name": "stdout",
     "output_type": "stream",
     "text": [
      "['banana', 'cherry', 'kiwi', 'mango']\n"
     ]
    }
   ],
   "source": [
    "newlist2 = [x for x in fruits if x != \"apple\"]\n",
    "print(newlist2)"
   ]
  },
  {
   "cell_type": "code",
   "execution_count": 9,
   "id": "665375ad",
   "metadata": {},
   "outputs": [
    {
     "name": "stdout",
     "output_type": "stream",
     "text": [
      "['apple', 'banana', 'cherry', 'kiwi', 'mango']\n"
     ]
    }
   ],
   "source": [
    "newlist3 = [x for x in fruits]\n",
    "print(newlist3)"
   ]
  },
  {
   "cell_type": "code",
   "execution_count": 10,
   "id": "32ab74c9",
   "metadata": {},
   "outputs": [
    {
     "name": "stdout",
     "output_type": "stream",
     "text": [
      "[0, 1, 4, 9, 16, 25, 36, 49, 64, 81]\n"
     ]
    }
   ],
   "source": [
    "newlist4 = [x*x for x in range(10)]\n",
    "print(newlist4)"
   ]
  },
  {
   "cell_type": "code",
   "execution_count": 11,
   "id": "83421ac7",
   "metadata": {},
   "outputs": [
    {
     "name": "stdout",
     "output_type": "stream",
     "text": [
      "['APPLE', 'BANANA', 'CHERRY', 'KIWI', 'MANGO']\n"
     ]
    }
   ],
   "source": [
    "newlist5 = [x.upper() for x in fruits]\n",
    "print(newlist5)"
   ]
  },
  {
   "cell_type": "markdown",
   "id": "0dc82c18",
   "metadata": {},
   "source": [
    "# using enumerate():\n"
   ]
  },
  {
   "cell_type": "markdown",
   "id": "77ee3a96",
   "metadata": {},
   "source": [
    "enumerate() is used to loop through the containers printing the index number along with the value present in that particular index."
   ]
  },
  {
   "cell_type": "code",
   "execution_count": 12,
   "id": "6f241c76",
   "metadata": {},
   "outputs": [
    {
     "name": "stdout",
     "output_type": "stream",
     "text": [
      "0 the\n",
      "1 big\n",
      "2 bang\n",
      "3 theory\n"
     ]
    }
   ],
   "source": [
    "for index, value in enumerate([\"the\",\"big\",\"bang\",\"theory\"]):\n",
    "    print(index,value)"
   ]
  },
  {
   "cell_type": "code",
   "execution_count": 15,
   "id": "d0e07d37",
   "metadata": {},
   "outputs": [
    {
     "name": "stdout",
     "output_type": "stream",
     "text": [
      "<enumerate object at 0x000002B45E7BE110>\n",
      "<class 'enumerate'>\n",
      "[(0, 'bread'), (1, 'milk'), (2, 'butter')]\n",
      "[(10, 'bread'), (11, 'milk'), (12, 'butter')]\n"
     ]
    }
   ],
   "source": [
    "grocery = [\"bread\",\"milk\",\"butter\"]\n",
    "enumerategrocery = enumerate(grocery)\n",
    "print(enumerategrocery)\n",
    "print(type(enumerategrocery))\n",
    "\n",
    "#converting to list\n",
    "print(list(enumerategrocery))\n",
    "\n",
    "#changing the default counter\n",
    "enumerategrocery = enumerate(grocery,10)\n",
    "print(list(enumerategrocery))"
   ]
  },
  {
   "cell_type": "markdown",
   "id": "5e2365a8",
   "metadata": {},
   "source": [
    "# using zip"
   ]
  },
  {
   "cell_type": "markdown",
   "id": "c222e098",
   "metadata": {},
   "source": [
    "zip() is used to combine 2 similar containers(list-list or dict-dict) printing the values sequentially. the loop exists only till the smaller container ends."
   ]
  },
  {
   "cell_type": "code",
   "execution_count": 18,
   "id": "9396cec9",
   "metadata": {},
   "outputs": [
    {
     "name": "stdout",
     "output_type": "stream",
     "text": [
      "what is your name? I am apple.\n",
      "what is your colour? I am red.\n",
      "what is your shape? I am a circle.\n"
     ]
    }
   ],
   "source": [
    "#initializing the list \n",
    "questions = [\"name\",\"colour\",\"shape\"]\n",
    "answers =[\"apple\",\"red\",\"a circle\"]\n",
    "\n",
    "#using zip() to combine two containers\n",
    "#and print values\n",
    "for question, answer in zip(questions,answers):\n",
    "    print(\"what is your {0}? I am {1}.\".format(question,answer))"
   ]
  },
  {
   "cell_type": "markdown",
   "id": "5beb6903",
   "metadata": {},
   "source": [
    "# using sorted()"
   ]
  },
  {
   "cell_type": "markdown",
   "id": "b35acc4a",
   "metadata": {},
   "source": [
    "sorted() is used to print the container is sorted order. it doesnot sort the container but just prints the container in sorted order for 1 instance. the use of set() can be combined to remove duplicate occurences."
   ]
  },
  {
   "cell_type": "code",
   "execution_count": 22,
   "id": "2e1ee40e",
   "metadata": {},
   "outputs": [
    {
     "name": "stdout",
     "output_type": "stream",
     "text": [
      "the list in sorted order is :\n",
      "1 1 2 3 3 5 6  \n",
      "the list in sorted order (without duplicates) is :\n",
      "1 2 3 5 6 "
     ]
    }
   ],
   "source": [
    "#initializing list\n",
    "lis = [ 1, 3, 5, 6, 2, 1, 3]\n",
    "\n",
    "#using sorted() to print the list in sorted order \n",
    "print(\"the list in sorted order is :\")\n",
    "for i in sorted(lis):\n",
    "    print(i, end = \" \")\n",
    "print(\" \")\n",
    "\n",
    "#using sorted() and set() to print the list in sorted order\n",
    "#use of set() removes duplicates.\n",
    "print(\"the list in sorted order (without duplicates) is :\")\n",
    "\n",
    "for i in sorted(set(lis)):\n",
    "    print(i, end = \" \")"
   ]
  },
  {
   "cell_type": "code",
   "execution_count": 23,
   "id": "9af7de7b",
   "metadata": {},
   "outputs": [
    {
     "name": "stdout",
     "output_type": "stream",
     "text": [
      "the list in reversed order is :\n",
      "3 1 2 6 5 3 1 "
     ]
    }
   ],
   "source": [
    "#initializing list\n",
    "lis = [ 1, 3, 5, 6, 2, 1, 3]\n",
    "\n",
    "#using reversed() to print the list in reversed order \n",
    "print(\"the list in reversed order is :\")\n",
    "for i in reversed(lis):\n",
    "    print(i, end = \" \")"
   ]
  },
  {
   "cell_type": "markdown",
   "id": "4e25f3a7",
   "metadata": {},
   "source": [
    "# iter() and next()\n"
   ]
  },
  {
   "cell_type": "markdown",
   "id": "a57ea069",
   "metadata": {},
   "source": [
    "the python iter function is used to return an iterator for the object. the iter() is used to create an object thet will iterate one element at a time"
   ]
  },
  {
   "cell_type": "code",
   "execution_count": 24,
   "id": "3d59503a",
   "metadata": {},
   "outputs": [
    {
     "name": "stdout",
     "output_type": "stream",
     "text": [
      "a\n",
      "e\n",
      "i\n",
      "o\n",
      "u\n"
     ]
    }
   ],
   "source": [
    "vowels = [\"a\",\"e\",\"i\",\"o\",\"u\"]\n",
    "\n",
    "#iter() with a list of vowels\n",
    "vowels_iter = iter(vowels)\n",
    "\n",
    "print(next(vowels_iter))\n",
    "print(next(vowels_iter))\n",
    "print(next(vowels_iter))\n",
    "print(next(vowels_iter))\n",
    "print(next(vowels_iter))"
   ]
  },
  {
   "cell_type": "code",
   "execution_count": 25,
   "id": "69c59556",
   "metadata": {},
   "outputs": [
    {
     "name": "stdout",
     "output_type": "stream",
     "text": [
      "a\n",
      "e\n",
      "i\n",
      "o\n",
      "u\n"
     ]
    }
   ],
   "source": [
    "vowels_iter = iter(vowels)\n",
    "for i in vowels_iter:\n",
    "    print(i)"
   ]
  },
  {
   "cell_type": "code",
   "execution_count": null,
   "id": "acf9e129",
   "metadata": {},
   "outputs": [],
   "source": []
  }
 ],
 "metadata": {
  "kernelspec": {
   "display_name": "Python 3 (ipykernel)",
   "language": "python",
   "name": "python3"
  },
  "language_info": {
   "codemirror_mode": {
    "name": "ipython",
    "version": 3
   },
   "file_extension": ".py",
   "mimetype": "text/x-python",
   "name": "python",
   "nbconvert_exporter": "python",
   "pygments_lexer": "ipython3",
   "version": "3.11.5"
  }
 },
 "nbformat": 4,
 "nbformat_minor": 5
}
