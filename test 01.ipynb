{
 "cells": [
  {
   "cell_type": "code",
   "execution_count": 13,
   "id": "add53718",
   "metadata": {},
   "outputs": [
    {
     "name": "stdout",
     "output_type": "stream",
     "text": [
      "4\n",
      "4 3 2 10\n",
      "[15, 16, 17, 9]\n"
     ]
    }
   ],
   "source": [
    "n = int(input())\n",
    "arr =input().split()\n",
    "new_arr =[]\n",
    "for i in arr:\n",
    "    I = int(i)\n",
    "    new_arr.append(I)\n",
    "sum_ = sum(new_arr)\n",
    "resultant_array = []\n",
    "for I in new_arr:\n",
    "    i_sum = sum_-I\n",
    "    resultant_array.append(i_sum)\n",
    "print(resultant_array)\n"
   ]
  },
  {
   "cell_type": "code",
   "execution_count": 11,
   "id": "4c876adc",
   "metadata": {},
   "outputs": [
    {
     "name": "stdout",
     "output_type": "stream",
     "text": [
      "2 4 1 6 9 8\n",
      "['1', '2', '4', '6', '8', '9']\n"
     ]
    },
    {
     "ename": "IndexError",
     "evalue": "list index out of range",
     "output_type": "error",
     "traceback": [
      "\u001b[1;31m---------------------------------------------------------------------------\u001b[0m",
      "\u001b[1;31mIndexError\u001b[0m                                Traceback (most recent call last)",
      "Cell \u001b[1;32mIn[11], line 13\u001b[0m\n\u001b[0;32m     11\u001b[0m         I\u001b[38;5;241m=\u001b[39mI\u001b[38;5;241m+\u001b[39m\u001b[38;5;241m1\u001b[39m\n\u001b[0;32m     12\u001b[0m         l\u001b[38;5;241m=\u001b[39ml\u001b[38;5;241m-\u001b[39m\u001b[38;5;241m1\u001b[39m\n\u001b[1;32m---> 13\u001b[0m         arr[I]\u001b[38;5;241m==\u001b[39m arr[l]\n\u001b[0;32m     14\u001b[0m \u001b[38;5;28mprint\u001b[39m(arr)\n",
      "\u001b[1;31mIndexError\u001b[0m: list index out of range"
     ]
    }
   ],
   "source": [
    "arr =input().split() #2 4 1 6 9 8\n",
    "new_arr =[]\n",
    "for i in arr:\n",
    "    I = int(i)\n",
    "    new_arr.append(I)\n",
    "arr.sort()\n",
    "#print(arr)\n",
    "l = len(arr)\n",
    "for I in range(l+1):\n",
    "    if I >= l/2:\n",
    "        I=I+1\n",
    "        l=l-1\n",
    "        arr[I] == arr[l]\n",
    "print(arr)"
   ]
  },
  {
   "cell_type": "code",
   "execution_count": null,
   "id": "c5396673",
   "metadata": {},
   "outputs": [],
   "source": []
  }
 ],
 "metadata": {
  "kernelspec": {
   "display_name": "Python 3 (ipykernel)",
   "language": "python",
   "name": "python3"
  },
  "language_info": {
   "codemirror_mode": {
    "name": "ipython",
    "version": 3
   },
   "file_extension": ".py",
   "mimetype": "text/x-python",
   "name": "python",
   "nbconvert_exporter": "python",
   "pygments_lexer": "ipython3",
   "version": "3.11.5"
  }
 },
 "nbformat": 4,
 "nbformat_minor": 5
}
