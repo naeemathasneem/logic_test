{
  "nbformat": 4,
  "nbformat_minor": 0,
  "metadata": {
    "colab": {
      "provenance": []
    },
    "kernelspec": {
      "name": "python3",
      "display_name": "Python 3"
    },
    "language_info": {
      "name": "python"
    }
  },
  "cells": [
    {
      "cell_type": "code",
      "source": [
        "def rotate(nums, k):\n",
        "    n = len(nums)\n",
        "    nums.reverse()\n",
        "    nums[:k] = reversed(nums[:k])\n",
        "    nums[k:] = reversed(nums[k:])\n",
        "\n",
        "nums = [1, 2, 3, 4, 5, 6, 7]\n",
        "k = 3\n",
        "rotate(nums, k)\n",
        "print(nums)\n",
        "\n",
        "print(\"=========================\")\n",
        "\n",
        "nums = [-1,-100,3,99]\n",
        "k = 2\n",
        "rotate(nums, k)\n",
        "print(nums)\n"
      ],
      "metadata": {
        "colab": {
          "base_uri": "https://localhost:8080/"
        },
        "id": "mlF8rWdsv17C",
        "outputId": "f29fc0a4-2cde-4051-d507-8ee87098a19d"
      },
      "execution_count": 19,
      "outputs": [
        {
          "output_type": "stream",
          "name": "stdout",
          "text": [
            "[5, 6, 7, 1, 2, 3, 4]\n",
            "=========================\n",
            "[3, 99, -1, -100]\n"
          ]
        }
      ]
    },
    {
      "cell_type": "code",
      "source": [
        "def comb(n, k):\n",
        "  def b(x, y):\n",
        "    if len(y) == k:\n",
        "      result.append(y[:])\n",
        "      return\n",
        "    for i in range(x, n + 1):\n",
        "      y.append(i)\n",
        "      b(i + 1, y)\n",
        "      y.pop()\n",
        "  result = []\n",
        "  b(1, [])\n",
        "  return result\n",
        "\n",
        "n1, k1=4, 2\n",
        "print( comb(n1, k1))\n",
        "\n",
        "print(\"=========================\")\n",
        "n2, k2=1, 1\n",
        "\n",
        "print( comb(n2, k2))\n"
      ],
      "metadata": {
        "colab": {
          "base_uri": "https://localhost:8080/"
        },
        "id": "Kjnj_syCxAuw",
        "outputId": "6ef6a910-73f9-4443-ea77-5bbfb25a96b2"
      },
      "execution_count": 37,
      "outputs": [
        {
          "output_type": "stream",
          "name": "stdout",
          "text": [
            "[[1, 2], [1, 3], [1, 4], [2, 3], [2, 4], [3, 4]]\n",
            "=========================\n",
            "[[1]]\n"
          ]
        }
      ]
    },
    {
      "cell_type": "code",
      "source": [],
      "metadata": {
        "colab": {
          "base_uri": "https://localhost:8080/"
        },
        "id": "QxD0UjjJ0hWn",
        "outputId": "97f7bebe-9220-47cd-e85e-d66698c72d79"
      },
      "execution_count": 26,
      "outputs": [
        {
          "output_type": "execute_result",
          "data": {
            "text/plain": [
              "22"
            ]
          },
          "metadata": {},
          "execution_count": 26
        }
      ]
    },
    {
      "cell_type": "code",
      "source": [],
      "metadata": {
        "id": "5-FILP5L1LQB"
      },
      "execution_count": null,
      "outputs": []
    }
  ]
}