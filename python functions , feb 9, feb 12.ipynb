{
 "cells": [
  {
   "cell_type": "markdown",
   "id": "45c8393b",
   "metadata": {},
   "source": [
    "# python functions"
   ]
  },
  {
   "cell_type": "markdown",
   "id": "0a6fd90a",
   "metadata": {},
   "source": [
    "# calling a functions"
   ]
  },
  {
   "cell_type": "code",
   "execution_count": 1,
   "id": "63f8a185",
   "metadata": {},
   "outputs": [],
   "source": [
    "def greet():\n",
    "    print(\"hello world!\")"
   ]
  },
  {
   "cell_type": "code",
   "execution_count": 2,
   "id": "71776307",
   "metadata": {},
   "outputs": [
    {
     "name": "stdout",
     "output_type": "stream",
     "text": [
      "hello world!\n",
      "hello world!\n"
     ]
    }
   ],
   "source": [
    "greet()\n",
    "greet()"
   ]
  },
  {
   "cell_type": "code",
   "execution_count": 3,
   "id": "fe6ea9a5",
   "metadata": {},
   "outputs": [
    {
     "name": "stdout",
     "output_type": "stream",
     "text": [
      "hello ravi\n",
      "hello 9\n"
     ]
    }
   ],
   "source": [
    "def name_fn(name):\n",
    "    print(\"hello\",name)\n",
    "name_fn (\"ravi\")\n",
    "name_fn(9)"
   ]
  },
  {
   "cell_type": "code",
   "execution_count": 4,
   "id": "343be992",
   "metadata": {},
   "outputs": [
    {
     "name": "stdout",
     "output_type": "stream",
     "text": [
      "enter a name:ravi\n",
      "hello ravi\n",
      "enter a name:adhil\n",
      "hello adhil\n"
     ]
    }
   ],
   "source": [
    "x = input(\"enter a name:\")\n",
    "name_fn(x)\n",
    "name_fn(input(\"enter a name:\"))"
   ]
  },
  {
   "cell_type": "markdown",
   "id": "8822b97e",
   "metadata": {},
   "source": [
    "# function arguments"
   ]
  },
  {
   "cell_type": "code",
   "execution_count": 6,
   "id": "e4a06f16",
   "metadata": {},
   "outputs": [
    {
     "name": "stdout",
     "output_type": "stream",
     "text": [
      "sum: 7\n"
     ]
    }
   ],
   "source": [
    "#function with no argument\n",
    "def add_numbers():\n",
    "    num1=5\n",
    "    num2=2\n",
    "    sum_=num1+num2\n",
    "    print(\"sum:\",sum_)\n",
    "add_numbers()"
   ]
  },
  {
   "cell_type": "code",
   "execution_count": 7,
   "id": "56e3d4f7",
   "metadata": {},
   "outputs": [
    {
     "name": "stdout",
     "output_type": "stream",
     "text": [
      "sum: 69\n"
     ]
    }
   ],
   "source": [
    "def add_numbers(num1,num2):\n",
    "    sum_=num1+num2\n",
    "    print(\"sum:\",sum_)\n",
    "add_numbers(5,64)"
   ]
  },
  {
   "cell_type": "code",
   "execution_count": 8,
   "id": "b249d654",
   "metadata": {},
   "outputs": [
    {
     "name": "stdout",
     "output_type": "stream",
     "text": [
      "enter a number:54\n",
      "enter a number:34\n",
      "sum: 88\n"
     ]
    }
   ],
   "source": [
    "#function call with two values\n",
    "x = int(input(\"enter a number:\"))\n",
    "y = int(input(\"enter a number:\"))\n",
    "\n",
    "def add_numbers(x,y):\n",
    "    sum_=x+y\n",
    "    print(\"sum:\",sum_)\n",
    "add_numbers(x,y)"
   ]
  },
  {
   "cell_type": "markdown",
   "id": "2e7806b0",
   "metadata": {},
   "source": [
    "# function argument with default values"
   ]
  },
  {
   "cell_type": "code",
   "execution_count": 1,
   "id": "98dc5026",
   "metadata": {},
   "outputs": [
    {
     "name": "stdout",
     "output_type": "stream",
     "text": [
      "sum 15\n",
      "sum 11\n",
      "sum 9\n"
     ]
    }
   ],
   "source": [
    "def add_numbers(a = 7, b = 8):\n",
    "    sum = a+b\n",
    "    print(\"sum:\",sum)\n",
    "    \n",
    "#function call without arguments\n",
    "add_numbers()\n",
    "\n",
    "#function call with two arguments\n",
    "add_numbers(3)\n",
    "\n",
    "#function call with one argument\n",
    "add_numbers(b = 2)"
   ]
  },
  {
   "cell_type": "markdown",
   "id": "d7e28520",
   "metadata": {},
   "source": [
    "# 12/02/24"
   ]
  },
  {
   "cell_type": "markdown",
   "id": "9d022fe2",
   "metadata": {},
   "source": [
    "# function with arbitorary argument"
   ]
  },
  {
   "cell_type": "markdown",
   "id": "09fdeeae",
   "metadata": {},
   "source": [
    "sometimes, we do not know in advance the number of arguments that will be passed into a fuction. To handle this kind of arguments in python"
   ]
  },
  {
   "cell_type": "markdown",
   "id": "b4f3294c",
   "metadata": {},
   "source": [
    "arbitorary arguments allow us to pass a varying number of values during a function call."
   ]
  },
  {
   "cell_type": "code",
   "execution_count": 5,
   "id": "1e130971",
   "metadata": {},
   "outputs": [
    {
     "name": "stdout",
     "output_type": "stream",
     "text": [
      "sum = 6\n",
      "sum = 32\n"
     ]
    }
   ],
   "source": [
    "#program to find sum of multiple numbers\n",
    "\n",
    "def find_sum(*numbers):\n",
    "    result = 0 \n",
    "    for num in numbers:\n",
    "         result = result + num\n",
    "    print(\"sum =\",result)\n",
    "    \n",
    "#function call with 3 arguments\n",
    "find_sum(1,2,3)\n",
    "\n",
    "#function call with 2 arguments\n",
    "find_sum(4,9,3,8,1,7)"
   ]
  },
  {
   "cell_type": "markdown",
   "id": "2eadd339",
   "metadata": {},
   "source": [
    "# the return statement"
   ]
  },
  {
   "cell_type": "code",
   "execution_count": 6,
   "id": "914425bd",
   "metadata": {},
   "outputs": [
    {
     "name": "stdout",
     "output_type": "stream",
     "text": [
      "square: 225\n"
     ]
    }
   ],
   "source": [
    "#function definition\n",
    "def find_square(num):\n",
    "    result = num * num\n",
    "    return result\n",
    "#function call\n",
    "square = find_square(15)\n",
    "print(\"square:\",square)"
   ]
  },
  {
   "cell_type": "code",
   "execution_count": 9,
   "id": "a247e023",
   "metadata": {},
   "outputs": [
    {
     "name": "stdout",
     "output_type": "stream",
     "text": [
      "result: 24 11 5\n",
      "(24, 11, 5)\n"
     ]
    }
   ],
   "source": [
    "#function definition\n",
    "def calculation(num1,num2):\n",
    "    sqr = num1 * num2\n",
    "    add = num1 + num2\n",
    "    sub = num1 - num2\n",
    "    return sqr, add, sub\n",
    "\n",
    "#function call\n",
    "x,y,z = calculation(8,3)\n",
    "print(\"result:\",x,y,z)\n",
    "\n",
    "p = calculation(8,3)\n",
    "print(p)"
   ]
  },
  {
   "cell_type": "markdown",
   "id": "0b13f4b2",
   "metadata": {},
   "source": [
    "# python recursive function"
   ]
  },
  {
   "cell_type": "code",
   "execution_count": 11,
   "id": "f57198fd",
   "metadata": {},
   "outputs": [
    {
     "name": "stdout",
     "output_type": "stream",
     "text": [
      "the factorial of 4 is 24\n"
     ]
    }
   ],
   "source": [
    "def factorial(x):\n",
    "    if x==1:\n",
    "        return 1\n",
    "    else:\n",
    "        return (x * factorial(x-1))\n",
    "    \n",
    "num = 4\n",
    "print(\"the factorial of\", num, \"is\", factorial(num))"
   ]
  },
  {
   "cell_type": "code",
   "execution_count": 14,
   "id": "087a4be9",
   "metadata": {},
   "outputs": [
    {
     "data": {
      "text/plain": [
       "6"
      ]
     },
     "execution_count": 14,
     "metadata": {},
     "output_type": "execute_result"
    }
   ],
   "source": [
    "factorial(3)  #1st call with 3\n",
    "3 * factorial(2)   #2nd call with 2\n",
    "3 * 2 * factorial(1) #3rd call with 1 \n",
    "3 * 2 * 1    #return from 3rd call as number = 1\n",
    "3 * 2       #return from 2nd call\n",
    "6        #return from 1st call"
   ]
  },
  {
   "cell_type": "markdown",
   "id": "e0a5dc13",
   "metadata": {},
   "source": [
    "# task"
   ]
  },
  {
   "cell_type": "markdown",
   "id": "392c4bda",
   "metadata": {},
   "source": [
    "define a function that checks if a number is even or odd."
   ]
  },
  {
   "cell_type": "code",
   "execution_count": 3,
   "id": "8ed31990",
   "metadata": {},
   "outputs": [
    {
     "name": "stdout",
     "output_type": "stream",
     "text": [
      "the number 3 is odd\n"
     ]
    }
   ],
   "source": [
    "def check_number(x):\n",
    "    if x % 2 == 0:\n",
    "        result = \"even\"\n",
    "        return result\n",
    "    else:\n",
    "        result1 = \"odd\"\n",
    "        return result1\n",
    "num = 3\n",
    "print(\"the number\", num , \"is\" , check_number(num))\n",
    "        \n"
   ]
  },
  {
   "cell_type": "markdown",
   "id": "4030cc47",
   "metadata": {},
   "source": [
    "# python lambda/anonymous function"
   ]
  },
  {
   "cell_type": "markdown",
   "id": "da2e0db0",
   "metadata": {},
   "source": [
    "python, a lambda function is a special type of function without the function name."
   ]
  },
  {
   "cell_type": "code",
   "execution_count": 4,
   "id": "1b857bc3",
   "metadata": {},
   "outputs": [],
   "source": [
    "def greet():\n",
    "    print(\"hello world\")"
   ]
  },
  {
   "cell_type": "code",
   "execution_count": 5,
   "id": "f627d3e1",
   "metadata": {},
   "outputs": [
    {
     "name": "stdout",
     "output_type": "stream",
     "text": [
      "hello world\n"
     ]
    }
   ],
   "source": [
    "greet = lambda : print(\"hello world\")\n",
    "\n",
    "greet()"
   ]
  },
  {
   "cell_type": "code",
   "execution_count": 6,
   "id": "8204533a",
   "metadata": {},
   "outputs": [
    {
     "name": "stdout",
     "output_type": "stream",
     "text": [
      "hello ravi\n"
     ]
    }
   ],
   "source": [
    "def name_fn(name):\n",
    "    print(\"hello\", name)\n",
    "    \n",
    "name_fn(\"ravi\")"
   ]
  },
  {
   "cell_type": "code",
   "execution_count": 7,
   "id": "49cac186",
   "metadata": {},
   "outputs": [
    {
     "name": "stdout",
     "output_type": "stream",
     "text": [
      "hey there, john\n"
     ]
    }
   ],
   "source": [
    "#lambda that accepts one argument\n",
    "greet_user = lambda name : print(\"hey there,\",name)\n",
    "\n",
    "#lambda call\n",
    "greet_user(\"john\")"
   ]
  },
  {
   "cell_type": "code",
   "execution_count": 8,
   "id": "bf464e13",
   "metadata": {},
   "outputs": [
    {
     "data": {
      "text/plain": [
       "15"
      ]
     },
     "execution_count": 8,
     "metadata": {},
     "output_type": "execute_result"
    }
   ],
   "source": [
    "x = lambda a :a+10\n",
    "x(5)"
   ]
  },
  {
   "cell_type": "code",
   "execution_count": 9,
   "id": "4a26b96e",
   "metadata": {},
   "outputs": [
    {
     "data": {
      "text/plain": [
       "12"
      ]
     },
     "execution_count": 9,
     "metadata": {},
     "output_type": "execute_result"
    }
   ],
   "source": [
    "x = lambda a, b : a* b\n",
    "x(2,6)"
   ]
  },
  {
   "cell_type": "code",
   "execution_count": null,
   "id": "a5174fdf",
   "metadata": {},
   "outputs": [],
   "source": []
  }
 ],
 "metadata": {
  "kernelspec": {
   "display_name": "Python 3 (ipykernel)",
   "language": "python",
   "name": "python3"
  },
  "language_info": {
   "codemirror_mode": {
    "name": "ipython",
    "version": 3
   },
   "file_extension": ".py",
   "mimetype": "text/x-python",
   "name": "python",
   "nbconvert_exporter": "python",
   "pygments_lexer": "ipython3",
   "version": "3.11.5"
  }
 },
 "nbformat": 4,
 "nbformat_minor": 5
}
