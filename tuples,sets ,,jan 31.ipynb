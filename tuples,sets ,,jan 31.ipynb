{
 "cells": [
  {
   "cell_type": "markdown",
   "id": "752e2b16",
   "metadata": {},
   "source": [
    "# tuples"
   ]
  },
  {
   "cell_type": "code",
   "execution_count": 3,
   "id": "73024b91",
   "metadata": {},
   "outputs": [
    {
     "name": "stdout",
     "output_type": "stream",
     "text": [
      "(1, 2, 3, 4, 5)\n",
      "('apple', 'orange', 'cherry')\n",
      "(1, 'apple', 5.4, True)\n"
     ]
    }
   ],
   "source": [
    "#example of tuple of a numbers\n",
    "numbers =(1,2,3,4,5)\n",
    "\n",
    "#example of tuple of strings\n",
    "string = (\"apple\",\"orange\",\"cherry\")\n",
    "\n",
    "#example of tuple of mixed-type tuple\n",
    "x = (1,\"apple\",5.4,True)\n",
    "\n",
    "print(numbers)\n",
    "print(string)\n",
    "print(x)"
   ]
  },
  {
   "cell_type": "markdown",
   "id": "9cd37f8b",
   "metadata": {},
   "source": [
    "# accessing elements"
   ]
  },
  {
   "cell_type": "code",
   "execution_count": null,
   "id": "bfe51f77",
   "metadata": {},
   "outputs": [],
   "source": [
    "numbers =(1,2,3,4,5)\n",
    "first_ele"
   ]
  },
  {
   "cell_type": "markdown",
   "id": "bd6e82bb",
   "metadata": {},
   "source": [
    "# immutability of tuple"
   ]
  },
  {
   "cell_type": "markdown",
   "id": "ed293d32",
   "metadata": {},
   "source": [
    "tuples are immutable,which means you cannot change the values of elements after the tuple is created.this makes tuples useful forsituations where we want to ensure that the data remains constant"
   ]
  },
  {
   "cell_type": "code",
   "execution_count": 4,
   "id": "8caddacf",
   "metadata": {},
   "outputs": [
    {
     "ename": "TypeError",
     "evalue": "'tuple' object does not support item assignment",
     "output_type": "error",
     "traceback": [
      "\u001b[1;31m---------------------------------------------------------------------------\u001b[0m",
      "\u001b[1;31mTypeError\u001b[0m                                 Traceback (most recent call last)",
      "Cell \u001b[1;32mIn[4], line 2\u001b[0m\n\u001b[0;32m      1\u001b[0m numbers \u001b[38;5;241m=\u001b[39m (\u001b[38;5;241m1\u001b[39m,\u001b[38;5;241m3\u001b[39m,\u001b[38;5;241m5\u001b[39m)\n\u001b[1;32m----> 2\u001b[0m numbers[\u001b[38;5;241m0\u001b[39m] \u001b[38;5;241m=\u001b[39m \u001b[38;5;241m10\u001b[39m\n\u001b[0;32m      3\u001b[0m \u001b[38;5;28mprint\u001b[39m(numbers)\n",
      "\u001b[1;31mTypeError\u001b[0m: 'tuple' object does not support item assignment"
     ]
    }
   ],
   "source": [
    "numbers = (1,3,5)\n",
    "numbers[0] = 10\n",
    "print(numbers)"
   ]
  },
  {
   "cell_type": "markdown",
   "id": "71a61ba2",
   "metadata": {},
   "source": [
    "# tuple update"
   ]
  },
  {
   "cell_type": "code",
   "execution_count": null,
   "id": "e4bbb3cc",
   "metadata": {},
   "outputs": [],
   "source": [
    "x = (\"apple\",\"cherry\",\"\")"
   ]
  },
  {
   "cell_type": "markdown",
   "id": "29136085",
   "metadata": {},
   "source": [
    "# add items"
   ]
  },
  {
   "cell_type": "code",
   "execution_count": 5,
   "id": "e9fd0485",
   "metadata": {},
   "outputs": [
    {
     "name": "stdout",
     "output_type": "stream",
     "text": [
      "('apple', 'banana', 'cherry', 'orange')\n"
     ]
    }
   ],
   "source": [
    "mytuple = (\"apple\",\"banana\",\"cherry\")\n",
    "y =list(mytuple)\n",
    "y.append(\"orange\")\n",
    "mytuple = tuple(y)\n",
    "print(mytuple)\n"
   ]
  },
  {
   "cell_type": "code",
   "execution_count": 6,
   "id": "21e8a5ad",
   "metadata": {},
   "outputs": [
    {
     "ename": "TypeError",
     "evalue": "can only concatenate tuple (not \"str\") to tuple",
     "output_type": "error",
     "traceback": [
      "\u001b[1;31m---------------------------------------------------------------------------\u001b[0m",
      "\u001b[1;31mTypeError\u001b[0m                                 Traceback (most recent call last)",
      "Cell \u001b[1;32mIn[6], line 3\u001b[0m\n\u001b[0;32m      1\u001b[0m mytuple \u001b[38;5;241m=\u001b[39m (\u001b[38;5;124m\"\u001b[39m\u001b[38;5;124mapple\u001b[39m\u001b[38;5;124m\"\u001b[39m,\u001b[38;5;124m\"\u001b[39m\u001b[38;5;124mbanana\u001b[39m\u001b[38;5;124m\"\u001b[39m,\u001b[38;5;124m\"\u001b[39m\u001b[38;5;124mcherry\u001b[39m\u001b[38;5;124m\"\u001b[39m)\n\u001b[0;32m      2\u001b[0m y \u001b[38;5;241m=\u001b[39m(\u001b[38;5;124m\"\u001b[39m\u001b[38;5;124morange\u001b[39m\u001b[38;5;124m\"\u001b[39m)\n\u001b[1;32m----> 3\u001b[0m mytuple\u001b[38;5;241m+\u001b[39m\u001b[38;5;241m=\u001b[39my\n\u001b[0;32m      4\u001b[0m \u001b[38;5;28mprint\u001b[39m(mytuple)\n",
      "\u001b[1;31mTypeError\u001b[0m: can only concatenate tuple (not \"str\") to tuple"
     ]
    }
   ],
   "source": [
    "mytuple = (\"apple\",\"banana\",\"cherry\")\n",
    "y =(\"orange\")\n",
    "mytuple += y\n",
    "print(mytuple)"
   ]
  },
  {
   "cell_type": "markdown",
   "id": "4b701ac7",
   "metadata": {},
   "source": [
    "# unpacking a tuple"
   ]
  },
  {
   "cell_type": "code",
   "execution_count": 7,
   "id": "d14177c7",
   "metadata": {},
   "outputs": [
    {
     "name": "stdout",
     "output_type": "stream",
     "text": [
      "apple\n",
      "cherry\n",
      "banana\n"
     ]
    }
   ],
   "source": [
    "fruits = (\"apple\",\"cherry\",\"banana\")\n",
    "x,y,z = fruits \n",
    "print(x)\n",
    "print(y)\n",
    "print(z)"
   ]
  },
  {
   "cell_type": "code",
   "execution_count": 8,
   "id": "96313ec8",
   "metadata": {},
   "outputs": [
    {
     "name": "stdout",
     "output_type": "stream",
     "text": [
      "apple\n",
      "['banana', 'cherry', 'orange']\n",
      "kiwi\n"
     ]
    }
   ],
   "source": [
    "fruits = (\"apple\",\"banana\",\"cherry\",\"orange\",\"kiwi\")\n",
    "x,*y,z =fruits\n",
    "print(x)\n",
    "print(y)\n",
    "print(z)\n"
   ]
  },
  {
   "cell_type": "code",
   "execution_count": 2,
   "id": "2b008f3b",
   "metadata": {},
   "outputs": [
    {
     "name": "stdout",
     "output_type": "stream",
     "text": [
      "apple\n",
      "['banana', 'cherry', 'cherry', 'orange']\n",
      "kiwi\n"
     ]
    }
   ],
   "source": [
    "fruits = (\"apple\",\"banana\",\"cherry\",\"cherry\",\"orange\",\"kiwi\")\n",
    "x,*y,z =fruits\n",
    "print(x)\n",
    "print(y)\n",
    "print(z)"
   ]
  },
  {
   "cell_type": "markdown",
   "id": "ecfc37c5",
   "metadata": {},
   "source": [
    "# set"
   ]
  },
  {
   "cell_type": "markdown",
   "id": "5515e40a",
   "metadata": {},
   "source": [
    "# add itms"
   ]
  },
  {
   "cell_type": "code",
   "execution_count": 9,
   "id": "02d5414f",
   "metadata": {},
   "outputs": [
    {
     "name": "stdout",
     "output_type": "stream",
     "text": [
      "{6}\n"
     ]
    }
   ],
   "source": [
    "x = set()\n",
    "x.add(6)\n",
    "print(x)"
   ]
  },
  {
   "cell_type": "code",
   "execution_count": 12,
   "id": "17b0837b",
   "metadata": {},
   "outputs": [
    {
     "name": "stdout",
     "output_type": "stream",
     "text": [
      "{'cherry', 'banana', 'apple', 'orange'}\n"
     ]
    }
   ],
   "source": [
    "set1 = {\"apple\",\"cherry\",\"banana\"}\n",
    "set1.add(\"orange\")\n",
    "print(set1)"
   ]
  },
  {
   "cell_type": "code",
   "execution_count": 13,
   "id": "412f94e5",
   "metadata": {},
   "outputs": [
    {
     "name": "stdout",
     "output_type": "stream",
     "text": [
      "{'cherry', 'banana', 'apple'}\n"
     ]
    }
   ],
   "source": [
    " set1 = {\"apple\",\"cherry\",\"banana\"}\n",
    " set2 = {\"cherry\"}\n",
    "set1.update(set2)\n",
    "print(set1)"
   ]
  },
  {
   "cell_type": "markdown",
   "id": "53d3c8de",
   "metadata": {},
   "source": [
    "# remove set items"
   ]
  },
  {
   "cell_type": "code",
   "execution_count": 14,
   "id": "213f906a",
   "metadata": {},
   "outputs": [
    {
     "name": "stdout",
     "output_type": "stream",
     "text": [
      "{'cherry', 'apple'}\n"
     ]
    }
   ],
   "source": [
    "set1 = {\"apple\",\"cherry\",\"banana\"}\n",
    "set1.remove(\"banana\")\n",
    "print(set1)"
   ]
  },
  {
   "cell_type": "code",
   "execution_count": 15,
   "id": "ea39a81d",
   "metadata": {},
   "outputs": [
    {
     "name": "stdout",
     "output_type": "stream",
     "text": [
      "{'cherry', 'apple'}\n"
     ]
    }
   ],
   "source": [
    "set1 = {\"apple\",\"cherry\",\"banana\"}\n",
    "set1.discard(\"banana\")\n",
    "print(set1)"
   ]
  },
  {
   "cell_type": "code",
   "execution_count": 16,
   "id": "f671b991",
   "metadata": {},
   "outputs": [
    {
     "name": "stdout",
     "output_type": "stream",
     "text": [
      "cherry\n",
      "{'banana', 'apple'}\n"
     ]
    }
   ],
   "source": [
    "set1 = {\"apple\",\"cherry\",\"banana\"}\n",
    "x = set1.pop()\n",
    "print(x)\n",
    "print(set1)"
   ]
  },
  {
   "cell_type": "markdown",
   "id": "08ac9aa8",
   "metadata": {},
   "source": [
    "# set operations"
   ]
  },
  {
   "cell_type": "code",
   "execution_count": 17,
   "id": "7df7717e",
   "metadata": {},
   "outputs": [
    {
     "name": "stdout",
     "output_type": "stream",
     "text": [
      "{1, 2, 3, 4, 5}\n"
     ]
    }
   ],
   "source": [
    "set1 = {1,2,3}\n",
    "set2 = {3,4,5}\n",
    "union_set = set1.union(set2) # returns a new set containing all unique elements from both sets.\n",
    "print(union_set)"
   ]
  },
  {
   "cell_type": "code",
   "execution_count": 18,
   "id": "f4e2962c",
   "metadata": {},
   "outputs": [
    {
     "name": "stdout",
     "output_type": "stream",
     "text": [
      "{3}\n"
     ]
    }
   ],
   "source": [
    "set1 = {1,2,3}\n",
    "set2 = {3,4,5}\n",
    "intersection_set = set1.intersection(set2)\n",
    "print(intersection_set)"
   ]
  },
  {
   "cell_type": "code",
   "execution_count": 19,
   "id": "d0ac19cc",
   "metadata": {},
   "outputs": [
    {
     "name": "stdout",
     "output_type": "stream",
     "text": [
      "{1, 2}\n"
     ]
    }
   ],
   "source": [
    "set1 = {1,2,3}\n",
    "set2 = {3,4,5}\n",
    "difference_set = set1.difference(set2)\n",
    "print(difference_set)"
   ]
  },
  {
   "cell_type": "code",
   "execution_count": 20,
   "id": "c000d8a7",
   "metadata": {},
   "outputs": [
    {
     "name": "stdout",
     "output_type": "stream",
     "text": [
      "{1, 2, 4, 5}\n"
     ]
    }
   ],
   "source": [
    "set1 = {1,2,3}\n",
    "set2 = {3,4,5}\n",
    "symmetric_difference_set = set1.symmetric_difference(set2) #returns a new set containing an element that are in either first set or second\n",
    "print(symmetric_difference_set)"
   ]
  },
  {
   "cell_type": "markdown",
   "id": "cb96ad17",
   "metadata": {},
   "source": [
    "# "
   ]
  }
 ],
 "metadata": {
  "kernelspec": {
   "display_name": "Python 3 (ipykernel)",
   "language": "python",
   "name": "python3"
  },
  "language_info": {
   "codemirror_mode": {
    "name": "ipython",
    "version": 3
   },
   "file_extension": ".py",
   "mimetype": "text/x-python",
   "name": "python",
   "nbconvert_exporter": "python",
   "pygments_lexer": "ipython3",
   "version": "3.11.5"
  }
 },
 "nbformat": 4,
 "nbformat_minor": 5
}
