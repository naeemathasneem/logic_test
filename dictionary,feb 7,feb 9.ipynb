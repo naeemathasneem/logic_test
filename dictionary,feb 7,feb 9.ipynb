{
 "cells": [
  {
   "cell_type": "markdown",
   "id": "7e7533f1",
   "metadata": {},
   "source": [
    "# python dictionary"
   ]
  },
  {
   "cell_type": "code",
   "execution_count": 1,
   "id": "a492d77f",
   "metadata": {},
   "outputs": [
    {
     "name": "stdout",
     "output_type": "stream",
     "text": [
      "{'brand': 'ford', 'electric': False, 'colours': ['red', 'white', 'blue']}\n"
     ]
    }
   ],
   "source": [
    "mydict = {\n",
    "    \"brand\": \"ford\",\n",
    "    \"electric\":False,\n",
    "    \"colours\": [\"red\",\"white\",\"blue\"]\n",
    "}\n",
    "print(mydict)"
   ]
  },
  {
   "cell_type": "code",
   "execution_count": 2,
   "id": "aea1e96c",
   "metadata": {},
   "outputs": [
    {
     "name": "stdout",
     "output_type": "stream",
     "text": [
      "<class 'dict'>\n"
     ]
    }
   ],
   "source": [
    "print(type(mydict))"
   ]
  },
  {
   "cell_type": "code",
   "execution_count": 3,
   "id": "d2125a13",
   "metadata": {},
   "outputs": [
    {
     "name": "stdout",
     "output_type": "stream",
     "text": [
      "3\n"
     ]
    }
   ],
   "source": [
    "print(len(mydict))"
   ]
  },
  {
   "cell_type": "code",
   "execution_count": 5,
   "id": "dfc43947",
   "metadata": {},
   "outputs": [
    {
     "ename": "SyntaxError",
     "evalue": "invalid syntax. Perhaps you forgot a comma? (2063136637.py, line 4)",
     "output_type": "error",
     "traceback": [
      "\u001b[1;36m  Cell \u001b[1;32mIn[5], line 4\u001b[1;36m\u001b[0m\n\u001b[1;33m    \"colours\": [\"red\",\"white\",\"blue\"]\u001b[0m\n\u001b[1;37m               ^\u001b[0m\n\u001b[1;31mSyntaxError\u001b[0m\u001b[1;31m:\u001b[0m invalid syntax. Perhaps you forgot a comma?\n"
     ]
    }
   ],
   "source": [
    "mydict = {\n",
    "    \"brand\": \"ford\",\n",
    "    \"electric\":False,\n",
    "    \"colours\": [\"red\",\"white\",\"blue\"]\n",
    "    \"colours\": \"black\"\n",
    "}\n",
    "print(mydict)"
   ]
  },
  {
   "cell_type": "markdown",
   "id": "740ce9aa",
   "metadata": {},
   "source": [
    "# accessing items"
   ]
  },
  {
   "cell_type": "markdown",
   "id": "a96a56f5",
   "metadata": {},
   "source": [
    "you can access the items of a dictionary by refering to its key name , inside square brackerts."
   ]
  },
  {
   "cell_type": "code",
   "execution_count": 3,
   "id": "7bbf0f97",
   "metadata": {},
   "outputs": [
    {
     "name": "stdout",
     "output_type": "stream",
     "text": [
      "mustard\n"
     ]
    }
   ],
   "source": [
    "#get the value of the \"model\"key:\n",
    "mydict ={\n",
    "    \"brand\": \"food\",\n",
    "    \"model\": \"mustard\",\n",
    "    \"year\": 1964\n",
    "}\n",
    "x = mydict[\"model\"]\n",
    "print(x)"
   ]
  },
  {
   "cell_type": "code",
   "execution_count": 4,
   "id": "b06cc259",
   "metadata": {},
   "outputs": [
    {
     "name": "stdout",
     "output_type": "stream",
     "text": [
      "mustard\n"
     ]
    }
   ],
   "source": [
    "y = mydict.get(\"model\")\n",
    "print(y)"
   ]
  },
  {
   "cell_type": "code",
   "execution_count": 6,
   "id": "46dc4632",
   "metadata": {},
   "outputs": [
    {
     "name": "stdout",
     "output_type": "stream",
     "text": [
      "dict_keys(['brand', 'model', 'year'])\n",
      "dict_values(['food', 'mustard', 1964])\n",
      "dict_items([('brand', 'food'), ('model', 'mustard'), ('year', 1964)])\n"
     ]
    }
   ],
   "source": [
    "x = mydict.keys()\n",
    "print(x)\n",
    "\n",
    "y = mydict.values()\n",
    "print(y)\n",
    "\n",
    "z= mydict.items()\n",
    "print(z)"
   ]
  },
  {
   "cell_type": "markdown",
   "id": "b0a9bf4b",
   "metadata": {},
   "source": [
    "# change values"
   ]
  },
  {
   "cell_type": "code",
   "execution_count": 8,
   "id": "17000e1d",
   "metadata": {},
   "outputs": [
    {
     "name": "stdout",
     "output_type": "stream",
     "text": [
      "{'brand': 'food', 'model': 'mustard', 'year': 2020}\n"
     ]
    }
   ],
   "source": [
    "x ={\n",
    "    \"brand\": \"food\",\n",
    "    \"model\": \"mustard\",\n",
    "    \"year\": 1964\n",
    "}\n",
    "x[\"year\"] = 2020\n",
    "print(x)"
   ]
  },
  {
   "cell_type": "markdown",
   "id": "2bc5e106",
   "metadata": {},
   "source": [
    "# update dictionary"
   ]
  },
  {
   "cell_type": "code",
   "execution_count": 9,
   "id": "cbf56652",
   "metadata": {},
   "outputs": [
    {
     "name": "stdout",
     "output_type": "stream",
     "text": [
      "{'brand': 'food', 'model': 'mustard', 'year': 2020}\n"
     ]
    }
   ],
   "source": [
    "x ={\n",
    "    \"brand\": \"food\",\n",
    "    \"model\": \"mustard\",\n",
    "    \"year\": 1964\n",
    "}\n",
    "x.update({\"year\":2020})\n",
    "print(x)"
   ]
  },
  {
   "cell_type": "code",
   "execution_count": null,
   "id": "18707f6d",
   "metadata": {},
   "outputs": [],
   "source": []
  },
  {
   "cell_type": "markdown",
   "id": "643ec6d8",
   "metadata": {},
   "source": [
    "# adding items"
   ]
  },
  {
   "cell_type": "code",
   "execution_count": 10,
   "id": "0ad2ac48",
   "metadata": {},
   "outputs": [
    {
     "name": "stdout",
     "output_type": "stream",
     "text": [
      "{'brand': 'food', 'model': 'mustard', 'year': 1964, 'color': 'red'}\n"
     ]
    }
   ],
   "source": [
    "x ={\n",
    "    \"brand\": \"food\",\n",
    "    \"model\": \"mustard\",\n",
    "    \"year\": 1964\n",
    "}\n",
    "x[\"color\"] = \"red\"\n",
    "print(x)"
   ]
  },
  {
   "cell_type": "markdown",
   "id": "b30f0149",
   "metadata": {},
   "source": [
    "# removing items"
   ]
  },
  {
   "cell_type": "code",
   "execution_count": 11,
   "id": "c913a60d",
   "metadata": {},
   "outputs": [
    {
     "name": "stdout",
     "output_type": "stream",
     "text": [
      "{'brand': 'food', 'year': 1964}\n"
     ]
    }
   ],
   "source": [
    "x ={\n",
    "    \"brand\": \"food\",\n",
    "    \"model\": \"mustard\",\n",
    "    \"year\": 1964\n",
    "}\n",
    "x.pop(\"model\")\n",
    "print(x)"
   ]
  },
  {
   "cell_type": "code",
   "execution_count": 13,
   "id": "feb989f2",
   "metadata": {},
   "outputs": [
    {
     "name": "stdout",
     "output_type": "stream",
     "text": [
      "{'brand': 'food', 'model': 'mustard'}\n"
     ]
    }
   ],
   "source": [
    "x ={\n",
    "    \"brand\": \"food\",\n",
    "    \"model\": \"mustard\",\n",
    "    \"year\": 1964\n",
    "}\n",
    "x.popitem() #randomly removing\n",
    "print(x)"
   ]
  },
  {
   "cell_type": "markdown",
   "id": "42530f81",
   "metadata": {},
   "source": [
    "# x ={\n",
    "    \"brand\": \"food\",\n",
    "    \"model\": \"mustard\",\n",
    "    \"year\": 1964\n",
    "}\n",
    "x.clear\n",
    "print(x)"
   ]
  },
  {
   "cell_type": "code",
   "execution_count": 15,
   "id": "8cbc3778",
   "metadata": {},
   "outputs": [],
   "source": [
    "del x"
   ]
  },
  {
   "cell_type": "markdown",
   "id": "dd55974b",
   "metadata": {},
   "source": [
    "# 09/02/2024"
   ]
  },
  {
   "cell_type": "markdown",
   "id": "51003400",
   "metadata": {},
   "source": [
    "# loop for dictionary"
   ]
  },
  {
   "cell_type": "code",
   "execution_count": 1,
   "id": "c2262d0c",
   "metadata": {},
   "outputs": [
    {
     "name": "stdout",
     "output_type": "stream",
     "text": [
      "brand\n",
      "model\n",
      "year\n"
     ]
    }
   ],
   "source": [
    "xdict = {\n",
    "    \"brand\": \"food\",\n",
    "    \"model\": \"mustard\",\n",
    "    \"year\": 1964    \n",
    "}\n",
    "for i in xdict:\n",
    "    print(i)"
   ]
  },
  {
   "cell_type": "code",
   "execution_count": 2,
   "id": "02dc6718",
   "metadata": {},
   "outputs": [
    {
     "name": "stdout",
     "output_type": "stream",
     "text": [
      "food\n",
      "mustard\n",
      "1964\n"
     ]
    }
   ],
   "source": [
    "xdict = {\n",
    "    \"brand\": \"food\",\n",
    "    \"model\": \"mustard\",\n",
    "    \"year\": 1964    \n",
    "}\n",
    "for i in xdict:\n",
    "    print(xdict[i])"
   ]
  },
  {
   "cell_type": "code",
   "execution_count": 3,
   "id": "846e2f1d",
   "metadata": {},
   "outputs": [
    {
     "name": "stdout",
     "output_type": "stream",
     "text": [
      "brand food\n",
      "model mustard\n",
      "year 1964\n"
     ]
    }
   ],
   "source": [
    "xdict = {\n",
    "    \"brand\": \"food\",\n",
    "    \"model\": \"mustard\",\n",
    "    \"year\": 1964    \n",
    "}\n",
    "for i in xdict:\n",
    "    print(i,xdict[i])"
   ]
  },
  {
   "cell_type": "code",
   "execution_count": 5,
   "id": "689a94c2",
   "metadata": {},
   "outputs": [
    {
     "name": "stdout",
     "output_type": "stream",
     "text": [
      "food\n",
      "mustard\n",
      "1964\n"
     ]
    }
   ],
   "source": [
    "d = {\n",
    "    \"brand\": \"food\",\n",
    "    \"model\": \"mustard\",\n",
    "    \"year\": 1964    \n",
    "}\n",
    "for x in d.values():\n",
    "    print(x)"
   ]
  },
  {
   "cell_type": "code",
   "execution_count": 7,
   "id": "5b6be0be",
   "metadata": {},
   "outputs": [
    {
     "name": "stdout",
     "output_type": "stream",
     "text": [
      "brand\n",
      "model\n",
      "year\n"
     ]
    }
   ],
   "source": [
    "d = {\n",
    "    \"brand\": \"food\",\n",
    "    \"model\": \"mustard\",\n",
    "    \"year\": 1964    \n",
    "}\n",
    "for x in d.keys():\n",
    "    print(x)"
   ]
  },
  {
   "cell_type": "markdown",
   "id": "52fb1f11",
   "metadata": {},
   "source": [
    "# sorted"
   ]
  },
  {
   "cell_type": "code",
   "execution_count": 8,
   "id": "7caf2a21",
   "metadata": {},
   "outputs": [
    {
     "name": "stdout",
     "output_type": "stream",
     "text": [
      "banana -> 0.15\n",
      "bread -> 3.5\n",
      "butter -> 5.0\n"
     ]
    }
   ],
   "source": [
    "prices = {\"bread\":3.5,\"butter\":5.0,\"banana\":0.15}\n",
    "\n",
    "for k in sorted(prices.keys()):\n",
    "    print(k,\"->\",prices[k])"
   ]
  },
  {
   "cell_type": "markdown",
   "id": "2b1d74a3",
   "metadata": {},
   "source": [
    "# copy a dictionary"
   ]
  },
  {
   "cell_type": "code",
   "execution_count": 12,
   "id": "a0ad8113",
   "metadata": {},
   "outputs": [
    {
     "name": "stdout",
     "output_type": "stream",
     "text": [
      "{'brand': 'food', 'model': 'mustard', 'year': 1964}\n"
     ]
    }
   ],
   "source": [
    "dct = {\n",
    "    \"brand\": \"food\",\n",
    "    \"model\": \"mustard\",\n",
    "    \"year\": 1964    \n",
    "}\n",
    "mydict = dct.copy()\n",
    "print(mydict)"
   ]
  },
  {
   "cell_type": "code",
   "execution_count": 1,
   "id": "254a141a",
   "metadata": {},
   "outputs": [
    {
     "name": "stdout",
     "output_type": "stream",
     "text": [
      "{'brand': 'food', 'model': 'mustard', 'year': 1964}\n"
     ]
    }
   ],
   "source": [
    "dct = {\n",
    "    \"brand\": \"food\",\n",
    "    \"model\": \"mustard\",\n",
    "    \"year\": 1964    \n",
    "}\n",
    "mydict = dict(dct)\n",
    "print(mydict)"
   ]
  },
  {
   "cell_type": "markdown",
   "id": "339a887a",
   "metadata": {},
   "source": [
    "# nested dictionaries"
   ]
  },
  {
   "cell_type": "code",
   "execution_count": 2,
   "id": "2348c0aa",
   "metadata": {},
   "outputs": [
    {
     "name": "stdout",
     "output_type": "stream",
     "text": [
      "{'child1': {'name': 'emil', 'year': 2004}, 'child2': {'name': 'tobias', 'year': 2007}, 'child3': {'name': 'linus', 'year': 2011}}\n"
     ]
    }
   ],
   "source": [
    "myfamily = {\n",
    "    \"child1\":{\"name\":\"emil\",\n",
    "             \"year\":2004},\n",
    "    \"child2\":{\"name\":\"tobias\",\n",
    "             \"year\":2007},\n",
    "    \"child3\":{\"name\":\"linus\",\n",
    "             \"year\":2011},\n",
    "}\n",
    "\n",
    "print(myfamily)"
   ]
  },
  {
   "cell_type": "code",
   "execution_count": 3,
   "id": "c333732a",
   "metadata": {},
   "outputs": [
    {
     "name": "stdout",
     "output_type": "stream",
     "text": [
      "{'gfg': 26, 'is': 19, 'best': 70}\n"
     ]
    }
   ],
   "source": [
    "#combine two dictionaries having key of the first dictionary and value of the second dictionary\n",
    "\n",
    "#initializing dictionaries\n",
    "test_dict1 ={\"gfg\":20,\"is\":36,\"best\":100}\n",
    "test_dict2 = {\"gfg2\":26,\"is2\":19,\"best2\":70}\n",
    "\n",
    "test_dict3 = dict(zip(test_dict1,test_dict2.values()))\n",
    "print(test_dict3)"
   ]
  },
  {
   "cell_type": "code",
   "execution_count": 4,
   "id": "53d1397c",
   "metadata": {},
   "outputs": [
    {
     "name": "stdout",
     "output_type": "stream",
     "text": [
      "{1: 1, 2: 4, 3: 9, 4: 16, 5: 25, 6: 36, 7: 49, 8: 64, 9: 81, 10: 100}\n"
     ]
    }
   ],
   "source": [
    "#python program to create a dictionary of number from 1 to 10 and their squares.\n",
    " \n",
    "#dic = [1,2,3,4,5,6,7,8,9,10]\n",
    "# d =[]\n",
    "# for i in range(1,10):\n",
    "#sqr = dic[i]*dic[i]\n",
    "# d.append(sqr)\n",
    "# print(dict(d))\n",
    "\n",
    "sq = {x:x**2 for x in range (1,11)}\n",
    "print(sq)"
   ]
  },
  {
   "cell_type": "markdown",
   "id": "b629055f",
   "metadata": {},
   "source": []
  }
 ],
 "metadata": {
  "kernelspec": {
   "display_name": "Python 3 (ipykernel)",
   "language": "python",
   "name": "python3"
  },
  "language_info": {
   "codemirror_mode": {
    "name": "ipython",
    "version": 3
   },
   "file_extension": ".py",
   "mimetype": "text/x-python",
   "name": "python",
   "nbconvert_exporter": "python",
   "pygments_lexer": "ipython3",
   "version": "3.11.5"
  }
 },
 "nbformat": 4,
 "nbformat_minor": 5
}
