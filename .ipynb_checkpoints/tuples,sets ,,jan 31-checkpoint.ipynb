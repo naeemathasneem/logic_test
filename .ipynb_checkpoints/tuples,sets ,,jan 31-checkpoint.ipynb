{
 "cells": [
  {
   "cell_type": "markdown",
   "id": "50659191",
   "metadata": {},
   "source": [
    "# tuples"
   ]
  },
  {
   "cell_type": "code",
   "execution_count": 3,
   "id": "e24ddcc4",
   "metadata": {},
   "outputs": [
    {
     "name": "stdout",
     "output_type": "stream",
     "text": [
      "(1, 2, 3, 4, 5)\n",
      "('apple', 'orange', 'cherry')\n",
      "(1, 'apple', 5.4, True)\n"
     ]
    }
   ],
   "source": [
    "#example of tuple of a numbers\n",
    "numbers =(1,2,3,4,5)\n",
    "\n",
    "#example of tuple of strings\n",
    "string = (\"apple\",\"orange\",\"cherry\")\n",
    "\n",
    "#example of tuple of mixed-type tuple\n",
    "x = (1,\"apple\",5.4,True)\n",
    "\n",
    "print(numbers)\n",
    "print(string)\n",
    "print(x)"
   ]
  },
  {
   "cell_type": "markdown",
   "id": "08126cc9",
   "metadata": {},
   "source": [
    "# accessing elements"
   ]
  },
  {
   "cell_type": "code",
   "execution_count": null,
   "id": "73fcc634",
   "metadata": {},
   "outputs": [],
   "source": [
    "numbers =(1,2,3,4,5)\n",
    "first_ele"
   ]
  },
  {
   "cell_type": "markdown",
   "id": "23998a13",
   "metadata": {},
   "source": [
    "# immutability of tuple"
   ]
  },
  {
   "cell_type": "markdown",
   "id": "4539a7f9",
   "metadata": {},
   "source": [
    "tuples are immutable,which means you cannot change the values of elements after the tuple is created.this makes tuples useful forsituations where we want to ensure that the data remains constant"
   ]
  },
  {
   "cell_type": "code",
   "execution_count": 4,
   "id": "1f87b8db",
   "metadata": {},
   "outputs": [
    {
     "ename": "TypeError",
     "evalue": "'tuple' object does not support item assignment",
     "output_type": "error",
     "traceback": [
      "\u001b[1;31m---------------------------------------------------------------------------\u001b[0m",
      "\u001b[1;31mTypeError\u001b[0m                                 Traceback (most recent call last)",
      "Cell \u001b[1;32mIn[4], line 2\u001b[0m\n\u001b[0;32m      1\u001b[0m numbers \u001b[38;5;241m=\u001b[39m (\u001b[38;5;241m1\u001b[39m,\u001b[38;5;241m3\u001b[39m,\u001b[38;5;241m5\u001b[39m)\n\u001b[1;32m----> 2\u001b[0m numbers[\u001b[38;5;241m0\u001b[39m] \u001b[38;5;241m=\u001b[39m \u001b[38;5;241m10\u001b[39m\n\u001b[0;32m      3\u001b[0m \u001b[38;5;28mprint\u001b[39m(numbers)\n",
      "\u001b[1;31mTypeError\u001b[0m: 'tuple' object does not support item assignment"
     ]
    }
   ],
   "source": [
    "numbers = (1,3,5)\n",
    "numbers[0] = 10\n",
    "print(numbers)"
   ]
  },
  {
   "cell_type": "markdown",
   "id": "17a79770",
   "metadata": {},
   "source": [
    "# tuple update"
   ]
  },
  {
   "cell_type": "code",
   "execution_count": null,
   "id": "fd37de8c",
   "metadata": {},
   "outputs": [],
   "source": [
    "x = (\"apple\",\"cherry\",\"\")"
   ]
  },
  {
   "cell_type": "markdown",
   "id": "917a7e15",
   "metadata": {},
   "source": [
    "# add items"
   ]
  },
  {
   "cell_type": "code",
   "execution_count": 5,
   "id": "1795b130",
   "metadata": {},
   "outputs": [
    {
     "name": "stdout",
     "output_type": "stream",
     "text": [
      "('apple', 'banana', 'cherry', 'orange')\n"
     ]
    }
   ],
   "source": [
    "mytuple = (\"apple\",\"banana\",\"cherry\")\n",
    "y =list(mytuple)\n",
    "y.append(\"orange\")\n",
    "mytuple = tuple(y)\n",
    "print(mytuple)\n"
   ]
  },
  {
   "cell_type": "code",
   "execution_count": 6,
   "id": "687dac19",
   "metadata": {},
   "outputs": [
    {
     "ename": "TypeError",
     "evalue": "can only concatenate tuple (not \"str\") to tuple",
     "output_type": "error",
     "traceback": [
      "\u001b[1;31m---------------------------------------------------------------------------\u001b[0m",
      "\u001b[1;31mTypeError\u001b[0m                                 Traceback (most recent call last)",
      "Cell \u001b[1;32mIn[6], line 3\u001b[0m\n\u001b[0;32m      1\u001b[0m mytuple \u001b[38;5;241m=\u001b[39m (\u001b[38;5;124m\"\u001b[39m\u001b[38;5;124mapple\u001b[39m\u001b[38;5;124m\"\u001b[39m,\u001b[38;5;124m\"\u001b[39m\u001b[38;5;124mbanana\u001b[39m\u001b[38;5;124m\"\u001b[39m,\u001b[38;5;124m\"\u001b[39m\u001b[38;5;124mcherry\u001b[39m\u001b[38;5;124m\"\u001b[39m)\n\u001b[0;32m      2\u001b[0m y \u001b[38;5;241m=\u001b[39m(\u001b[38;5;124m\"\u001b[39m\u001b[38;5;124morange\u001b[39m\u001b[38;5;124m\"\u001b[39m)\n\u001b[1;32m----> 3\u001b[0m mytuple\u001b[38;5;241m+\u001b[39m\u001b[38;5;241m=\u001b[39my\n\u001b[0;32m      4\u001b[0m \u001b[38;5;28mprint\u001b[39m(mytuple)\n",
      "\u001b[1;31mTypeError\u001b[0m: can only concatenate tuple (not \"str\") to tuple"
     ]
    }
   ],
   "source": [
    "mytuple = (\"apple\",\"banana\",\"cherry\")\n",
    "y =(\"orange\")\n",
    "mytuple += y\n",
    "print(mytuple)"
   ]
  },
  {
   "cell_type": "markdown",
   "id": "e3b81991",
   "metadata": {},
   "source": [
    "# unpacking a tuple"
   ]
  },
  {
   "cell_type": "code",
   "execution_count": 7,
   "id": "d493672b",
   "metadata": {},
   "outputs": [
    {
     "name": "stdout",
     "output_type": "stream",
     "text": [
      "apple\n",
      "cherry\n",
      "banana\n"
     ]
    }
   ],
   "source": [
    "fruits = (\"apple\",\"cherry\",\"banana\")\n",
    "x,y,z = fruits \n",
    "print(x)\n",
    "print(y)\n",
    "print(z)"
   ]
  },
  {
   "cell_type": "code",
   "execution_count": 8,
   "id": "9bc054d3",
   "metadata": {},
   "outputs": [
    {
     "name": "stdout",
     "output_type": "stream",
     "text": [
      "apple\n",
      "['banana', 'cherry', 'orange']\n",
      "kiwi\n"
     ]
    }
   ],
   "source": [
    "fruits = (\"apple\",\"banana\",\"cherry\",\"orange\",\"kiwi\")\n",
    "x,*y,z =fruits\n",
    "print(x)\n",
    "print(y)\n",
    "print(z)\n"
   ]
  },
  {
   "cell_type": "code",
   "execution_count": null,
   "id": "27d27a4b",
   "metadata": {},
   "outputs": [],
   "source": [
    "fruits = (\"apple\",\"banana\",\"cherry1\",\"cherry\",\"orange\",\"kiwi\")\n",
    "x,*y,z =fruits\n",
    "print(x)\n",
    "print(y)\n",
    "print(z)"
   ]
  },
  {
   "cell_type": "markdown",
   "id": "da598e92",
   "metadata": {},
   "source": [
    "# "
   ]
  }
 ],
 "metadata": {
  "kernelspec": {
   "display_name": "Python 3 (ipykernel)",
   "language": "python",
   "name": "python3"
  },
  "language_info": {
   "codemirror_mode": {
    "name": "ipython",
    "version": 3
   },
   "file_extension": ".py",
   "mimetype": "text/x-python",
   "name": "python",
   "nbconvert_exporter": "python",
   "pygments_lexer": "ipython3",
   "version": "3.11.5"
  }
 },
 "nbformat": 4,
 "nbformat_minor": 5
}
