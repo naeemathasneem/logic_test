{
 "cells": [
  {
   "cell_type": "markdown",
   "id": "b519efaf",
   "metadata": {},
   "source": [
    "# MEMBERSHIP OPERATORS\n"
   ]
  },
  {
   "cell_type": "code",
   "execution_count": 2,
   "id": "54dded46",
   "metadata": {},
   "outputs": [
    {
     "name": "stdout",
     "output_type": "stream",
     "text": [
      "False\n"
     ]
    }
   ],
   "source": [
    "x=[\"apple\",\"banana\"]\n",
    "print(\"banana\" in \"x\") #returns true because a sequence with the volue \"banana\" is in the list"
   ]
  },
  {
   "cell_type": "code",
   "execution_count": 3,
   "id": "1931214d",
   "metadata": {},
   "outputs": [
    {
     "name": "stdout",
     "output_type": "stream",
     "text": [
      "True\n"
     ]
    }
   ],
   "source": [
    "x = [ \"apple\",\"orange\"]\n",
    "print(\"cherry\" not in x) #returns false because a sequence with tha value \"cherry\" is not in the list"
   ]
  },
  {
   "cell_type": "markdown",
   "id": "5ef7e219",
   "metadata": {},
   "source": [
    "# ACCESS LIST ITEMS\n"
   ]
  },
  {
   "cell_type": "code",
   "execution_count": 1,
   "id": "d8fd90a5",
   "metadata": {},
   "outputs": [
    {
     "name": "stdout",
     "output_type": "stream",
     "text": [
      "1\n",
      "2\n",
      "10\n"
     ]
    }
   ],
   "source": [
    "numbers = [1,2,3,4,5,6,7,8,9,10]\n",
    "    \n",
    "first_element = numbers[0]\n",
    "second_element = numbers[1]\n",
    "last_element = numbers[-1]\n",
    "\n",
    "print(first_element)\n",
    "print(second_element)\n",
    "print(last_element)"
   ]
  },
  {
   "cell_type": "code",
   "execution_count": 3,
   "id": "ed8e64a5",
   "metadata": {},
   "outputs": [
    {
     "name": "stdout",
     "output_type": "stream",
     "text": [
      "[4, 5, 6]\n"
     ]
    }
   ],
   "source": [
    "print(numbers[3:6])"
   ]
  },
  {
   "cell_type": "code",
   "execution_count": 4,
   "id": "7140380f",
   "metadata": {},
   "outputs": [
    {
     "name": "stdout",
     "output_type": "stream",
     "text": [
      "10\n"
     ]
    }
   ],
   "source": [
    "print(len(numbers))"
   ]
  },
  {
   "cell_type": "markdown",
   "id": "adbfd660",
   "metadata": {},
   "source": [
    "# ADDING ELEMENTS"
   ]
  },
  {
   "cell_type": "code",
   "execution_count": 6,
   "id": "6eb3d1fd",
   "metadata": {},
   "outputs": [
    {
     "name": "stdout",
     "output_type": "stream",
     "text": [
      "['apple', 'banana', 'cherry']\n"
     ]
    }
   ],
   "source": [
    "\n",
    "# append :add an element to end of the list\n",
    "fruits = [\"apple\",\"banana\"]\n",
    "fruits.append(\"cherry\")\n",
    "print(fruits)"
   ]
  },
  {
   "cell_type": "code",
   "execution_count": 10,
   "id": "10a34a24",
   "metadata": {},
   "outputs": [
    {
     "name": "stdout",
     "output_type": "stream",
     "text": [
      "['apple', 'banana', 'grape', 'orange', 'cherry']\n"
     ]
    }
   ],
   "source": [
    "#insert :add an element to a specific place\n",
    "fruits = [\"apple\",\"banana\",\"orange\",\"cherry\"]\n",
    "fruits.insert(2,\"grape\")\n",
    "print(fruits)"
   ]
  },
  {
   "cell_type": "markdown",
   "id": "b07b99f4",
   "metadata": {},
   "source": [
    "# EXTENDING LISTS"
   ]
  },
  {
   "cell_type": "code",
   "execution_count": 11,
   "id": "37d26ce6",
   "metadata": {},
   "outputs": [
    {
     "name": "stdout",
     "output_type": "stream",
     "text": [
      "['apple', 'banana', 'cherry', 'orange']\n"
     ]
    }
   ],
   "source": [
    "fruits = [\"apple\",\"banana\"]\n",
    "more_fruits = [\"cherry\",\"orange\"]\n",
    "fruits.extend(more_fruits)\n",
    "print(fruits)"
   ]
  },
  {
   "cell_type": "markdown",
   "id": "7b3ff676",
   "metadata": {},
   "source": [
    "# CHANGE ITEM VALUE"
   ]
  },
  {
   "cell_type": "code",
   "execution_count": 14,
   "id": "85692621",
   "metadata": {},
   "outputs": [
    {
     "name": "stdout",
     "output_type": "stream",
     "text": [
      "['apple', 'melon', 'cherry']\n"
     ]
    }
   ],
   "source": [
    "fruits = [ \"apple\",\"orange\",\"cherry\"]\n",
    "fruits[1] = \"melon\"\n",
    "print(fruits)"
   ]
  },
  {
   "cell_type": "code",
   "execution_count": 7,
   "id": "01065561",
   "metadata": {},
   "outputs": [
    {
     "name": "stdout",
     "output_type": "stream",
     "text": [
      "['apple', 'banana', 'cherry']\n"
     ]
    }
   ],
   "source": [
    "fruits = [\"apple\",\"banana\",\"cherry\"]\n",
    "copy_fruits = fruits.copy() #\n",
    "#or\n",
    "copy_fruits = fruits[ : ]\n",
    "print(copy_fruits)"
   ]
  },
  {
   "cell_type": "code",
   "execution_count": 15,
   "id": "016b1ab1",
   "metadata": {},
   "outputs": [
    {
     "name": "stdout",
     "output_type": "stream",
     "text": [
      "['apple', 'pappaya', 'kiwi']\n"
     ]
    }
   ],
   "source": [
    "fruits[1:3] = [\"pappaya\",\"kiwi\"]\n",
    "print(fruits)"
   ]
  },
  {
   "cell_type": "markdown",
   "id": "6f786048",
   "metadata": {},
   "source": [
    "# # removing elements"
   ]
  },
  {
   "cell_type": "code",
   "execution_count": 18,
   "id": "ba59183f",
   "metadata": {},
   "outputs": [
    {
     "name": "stdout",
     "output_type": "stream",
     "text": [
      "['apple', 'cherry']\n"
     ]
    }
   ],
   "source": [
    "fruits = [ \"apple\",\"orange\",\"cherry\"]\n",
    "fruits.remove(\"orange\")\n",
    "print(fruits)"
   ]
  },
  {
   "cell_type": "code",
   "execution_count": 19,
   "id": "43bdc07b",
   "metadata": {},
   "outputs": [
    {
     "name": "stdout",
     "output_type": "stream",
     "text": [
      "['apple', 'orange']\n"
     ]
    }
   ],
   "source": [
    "fruits = [ \"apple\",\"orange\",\"cherry\"]\n",
    "removed_fruits = fruits.pop()\n",
    "print(fruits)"
   ]
  },
  {
   "cell_type": "code",
   "execution_count": 20,
   "id": "79f396b1",
   "metadata": {},
   "outputs": [
    {
     "name": "stdout",
     "output_type": "stream",
     "text": [
      "[]\n"
     ]
    }
   ],
   "source": [
    "fruits = [ \"apple\",\"orange\",\"cherry\"]\n",
    "fruits.clear()\n",
    "print(fruits)"
   ]
  },
  {
   "cell_type": "code",
   "execution_count": 5,
   "id": "10397f78",
   "metadata": {},
   "outputs": [
    {
     "name": "stdout",
     "output_type": "stream",
     "text": [
      "['orange', 'cherry']\n"
     ]
    }
   ],
   "source": [
    "fruits = [ \"apple\",\"orange\",\"cherry\"]\n",
    "del fruits[0]\n",
    "print(fruits)"
   ]
  },
  {
   "cell_type": "markdown",
   "id": "a2fa6fb1",
   "metadata": {},
   "source": [
    "# copying lists"
   ]
  },
  {
   "cell_type": "code",
   "execution_count": 6,
   "id": "8c3922df",
   "metadata": {},
   "outputs": [],
   "source": [
    "fruits = [\"apple\",\"banana\",\"cherry\"]\n",
    "copy_fruits = fruits.copy() #copy_fruits is seperate copy of fruits\n",
    "#or \n",
    "copy_fruits = fruits[:]#another way to create a copy of the list"
   ]
  },
  {
   "cell_type": "code",
   "execution_count": 2,
   "id": "f5c97837",
   "metadata": {},
   "outputs": [
    {
     "name": "stdout",
     "output_type": "stream",
     "text": [
      "['apple', 'banana', 'cherry']\n",
      "['apple', 'banana', 'cherry']\n",
      "[56, 'banana', 'cherry']\n",
      "[56, 'banana', 'cherry']\n"
     ]
    }
   ],
   "source": [
    "fruits = [\"apple\",\"banana\",\"cherry\"]\n",
    "print(fruits)\n",
    "\n",
    "x = fruits\n",
    "print(fruits)\n",
    "x[0] = 56\n",
    "print(x)\n",
    "print(fruits)\n",
    "\n"
   ]
  },
  {
   "cell_type": "code",
   "execution_count": 4,
   "id": "6fe447cf",
   "metadata": {},
   "outputs": [
    {
     "name": "stdout",
     "output_type": "stream",
     "text": [
      "['apple', 'banana', 'cherry']\n",
      "['apple', 'banana', 'cherry']\n",
      "['apple', 100, 'cherry']\n",
      "['apple', 'banana', 'cherry']\n"
     ]
    }
   ],
   "source": [
    "fruits = [\"apple\",\"banana\",\"cherry\"]\n",
    "print(fruits)\n",
    "\n",
    "y = fruits.copy()\n",
    "print(y)\n",
    "y[1]=100\n",
    "print(y)\n",
    "print(fruits)"
   ]
  },
  {
   "cell_type": "markdown",
   "id": "4ed0f638",
   "metadata": {},
   "source": [
    "#  REVERSING A LIST"
   ]
  },
  {
   "cell_type": "code",
   "execution_count": 5,
   "id": "d32886b1",
   "metadata": {},
   "outputs": [
    {
     "name": "stdout",
     "output_type": "stream",
     "text": [
      "[5, 4, 3, 2, 1]\n"
     ]
    }
   ],
   "source": [
    "numbers = [1,2,3,4,5]\n",
    "numbers.reverse()\n",
    "print(numbers)"
   ]
  },
  {
   "cell_type": "markdown",
   "id": "1c94e37a",
   "metadata": {},
   "source": [
    "# sorting a list"
   ]
  },
  {
   "cell_type": "code",
   "execution_count": 8,
   "id": "b8d7bd80",
   "metadata": {},
   "outputs": [
    {
     "name": "stdout",
     "output_type": "stream",
     "text": [
      "[1, 2, 3, 4, 5]\n"
     ]
    }
   ],
   "source": [
    "numbers = [5,4,3,2,1]\n",
    "numbers.sort()\n",
    "print(numbers)"
   ]
  },
  {
   "cell_type": "code",
   "execution_count": 11,
   "id": "47d6e49f",
   "metadata": {},
   "outputs": [
    {
     "name": "stdout",
     "output_type": "stream",
     "text": [
      "[5, 4, 3, 2, 1]\n"
     ]
    }
   ],
   "source": [
    "numbers.sort(reverse=True)\n",
    "print(numbers)\n"
   ]
  },
  {
   "cell_type": "markdown",
   "id": "e49f987a",
   "metadata": {},
   "source": [
    "# nested list "
   ]
  },
  {
   "cell_type": "code",
   "execution_count": 9,
   "id": "d940640e",
   "metadata": {},
   "outputs": [
    {
     "ename": "NameError",
     "evalue": "name 'true' is not defined",
     "output_type": "error",
     "traceback": [
      "\u001b[1;31m---------------------------------------------------------------------------\u001b[0m",
      "\u001b[1;31mNameError\u001b[0m                                 Traceback (most recent call last)",
      "Cell \u001b[1;32mIn[9], line 1\u001b[0m\n\u001b[1;32m----> 1\u001b[0m numbers\u001b[38;5;241m.\u001b[39msort(reverse \u001b[38;5;241m=\u001b[39m true)\n\u001b[0;32m      2\u001b[0m \u001b[38;5;28mprint\u001b[39m(numbers)\n",
      "\u001b[1;31mNameError\u001b[0m: name 'true' is not defined"
     ]
    }
   ],
   "source": []
  },
  {
   "cell_type": "code",
   "execution_count": 6,
   "id": "e14f7fa6",
   "metadata": {},
   "outputs": [
    {
     "ename": "NameError",
     "evalue": "name 'number' is not defined",
     "output_type": "error",
     "traceback": [
      "\u001b[1;31m---------------------------------------------------------------------------\u001b[0m",
      "\u001b[1;31mNameError\u001b[0m                                 Traceback (most recent call last)",
      "Cell \u001b[1;32mIn[6], line 1\u001b[0m\n\u001b[1;32m----> 1\u001b[0m number\u001b[38;5;241m.\u001b[39msort(reverse \u001b[38;5;241m=\u001b[39m true)\n",
      "\u001b[1;31mNameError\u001b[0m: name 'number' is not defined"
     ]
    }
   ],
   "source": [
    "number.sort(reverse = true)\n"
   ]
  },
  {
   "cell_type": "code",
   "execution_count": 7,
   "id": "b5300d7e",
   "metadata": {},
   "outputs": [
    {
     "ename": "SyntaxError",
     "evalue": "invalid syntax (1430202204.py, line 1)",
     "output_type": "error",
     "traceback": [
      "\u001b[1;36m  Cell \u001b[1;32mIn[7], line 1\u001b[1;36m\u001b[0m\n\u001b[1;33m    nested list\u001b[0m\n\u001b[1;37m           ^\u001b[0m\n\u001b[1;31mSyntaxError\u001b[0m\u001b[1;31m:\u001b[0m invalid syntax\n"
     ]
    }
   ],
   "source": [
    "#nested list"
   ]
  },
  {
   "cell_type": "code",
   "execution_count": 9,
   "id": "a39651dc",
   "metadata": {},
   "outputs": [],
   "source": [
    "#counting"
   ]
  },
  {
   "cell_type": "code",
   "execution_count": 10,
   "id": "e51b60a3",
   "metadata": {},
   "outputs": [],
   "source": [
    "#maximun and minimun sum"
   ]
  },
  {
   "cell_type": "code",
   "execution_count": 11,
   "id": "3ff622bf",
   "metadata": {},
   "outputs": [
    {
     "name": "stdout",
     "output_type": "stream",
     "text": [
      "[7, 3, 9, 1, 5]\n"
     ]
    }
   ],
   "source": [
    "my_list = [5,3,9,1,7]\n",
    "x = my_list\n",
    "x[0] = 7\n",
    "x[-1] =5\n",
    "print(my_list)"
   ]
  },
  {
   "cell_type": "code",
   "execution_count": 12,
   "id": "c89221ce",
   "metadata": {},
   "outputs": [
    {
     "name": "stdout",
     "output_type": "stream",
     "text": [
      "[7, 3, 9, 1, 5]\n"
     ]
    }
   ],
   "source": [
    "my_list = [5,3,9,1,7]\n",
    "x = my_list[0]\n",
    "y = my_list[-1]\n",
    "my_list[0] = y\n",
    "my_list[-1] = x\n",
    "#or\n",
    "my_list[0],my_list[1] =my_list[-1],my_list[0]\n",
    "print(my_list)\n",
    "\n"
   ]
  },
  {
   "cell_type": "code",
   "execution_count": null,
   "id": "7961d651",
   "metadata": {},
   "outputs": [],
   "source": [
    "\n"
   ]
  },
  {
   "cell_type": "code",
   "execution_count": null,
   "id": "90843919",
   "metadata": {},
   "outputs": [],
   "source": []
  }
 ],
 "metadata": {
  "kernelspec": {
   "display_name": "Python 3 (ipykernel)",
   "language": "python",
   "name": "python3"
  },
  "language_info": {
   "codemirror_mode": {
    "name": "ipython",
    "version": 3
   },
   "file_extension": ".py",
   "mimetype": "text/x-python",
   "name": "python",
   "nbconvert_exporter": "python",
   "pygments_lexer": "ipython3",
   "version": "3.11.5"
  }
 },
 "nbformat": 4,
 "nbformat_minor": 5
}
