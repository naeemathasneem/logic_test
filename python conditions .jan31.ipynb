{
 "cells": [
  {
   "cell_type": "markdown",
   "id": "debaf932",
   "metadata": {},
   "source": [
    "# if - statement"
   ]
  },
  {
   "cell_type": "code",
   "execution_count": 2,
   "id": "c87c1906",
   "metadata": {},
   "outputs": [
    {
     "name": "stdout",
     "output_type": "stream",
     "text": [
      "statement checked\n"
     ]
    }
   ],
   "source": [
    "a = 309\n",
    "b = 364\n",
    "if (a>b):\n",
    "    print(\"a is greater than b\")\n",
    "    \n",
    "print(\"statement checked\")"
   ]
  },
  {
   "cell_type": "code",
   "execution_count": 4,
   "id": "58bd2fc9",
   "metadata": {},
   "outputs": [
    {
     "name": "stdout",
     "output_type": "stream",
     "text": [
      "condition checked\n"
     ]
    }
   ],
   "source": [
    "a = 309\n",
    "b = 364\n",
    "if (a>b or a==b):\n",
    "    print(\"a is greater than b\")\n",
    "print(\"condition checked\")"
   ]
  },
  {
   "cell_type": "markdown",
   "id": "37f9ca67",
   "metadata": {},
   "source": [
    "# if - else statement"
   ]
  },
  {
   "cell_type": "code",
   "execution_count": 6,
   "id": "1263fd17",
   "metadata": {},
   "outputs": [
    {
     "name": "stdout",
     "output_type": "stream",
     "text": [
      "b less than a\n"
     ]
    }
   ],
   "source": [
    "a = 500\n",
    "b = 330\n",
    "if (b>a):\n",
    "    print(\"b greater than a\")\n",
    "else :\n",
    "    print(\"b less than a\")"
   ]
  },
  {
   "cell_type": "code",
   "execution_count": 1,
   "id": "636c4321",
   "metadata": {},
   "outputs": [
    {
     "name": "stdout",
     "output_type": "stream",
     "text": [
      "number\n"
     ]
    }
   ],
   "source": [
    "x = 5\n",
    "y = \"hello\"\n",
    "typ =type(x)\n",
    "\n",
    "if typ==int:\n",
    "    print(\"number\")\n",
    "else:\n",
    "    print(\"string\")"
   ]
  },
  {
   "cell_type": "markdown",
   "id": "4f50f137",
   "metadata": {},
   "source": [
    "# if-elif-else statement"
   ]
  },
  {
   "cell_type": "code",
   "execution_count": 8,
   "id": "f7432def",
   "metadata": {},
   "outputs": [
    {
     "name": "stdout",
     "output_type": "stream",
     "text": [
      "first_number :16\n",
      "second_number :56\n",
      "b greater than a\n"
     ]
    }
   ],
   "source": [
    "a = int(input(\"first_number :\"))\n",
    "b = int(input(\"second_number :\"))\n",
    "\n",
    "if (b>a):\n",
    "    print(\"b greater than a\")\n",
    "elif (b<a):\n",
    "    print(\"b less than a\")\n",
    "else :\n",
    "    print(\"b is equal to a\")"
   ]
  },
  {
   "cell_type": "markdown",
   "id": "58acd66f",
   "metadata": {},
   "source": [
    "# task"
   ]
  },
  {
   "cell_type": "code",
   "execution_count": 10,
   "id": "482b9daa",
   "metadata": {},
   "outputs": [
    {
     "name": "stdout",
     "output_type": "stream",
     "text": [
      "number:-56\n",
      "number is negative\n"
     ]
    }
   ],
   "source": [
    "#write a python program to check a number taken from the user, is positive or negetive\n",
    "\n",
    "a = int(input(\"number:\"))\n",
    "if (a>0):\n",
    "    print(\"number is positive\")\n",
    "else:\n",
    "    print(\"number is negative\")"
   ]
  },
  {
   "cell_type": "code",
   "execution_count": 20,
   "id": "f6895cdb",
   "metadata": {},
   "outputs": [
    {
     "name": "stdout",
     "output_type": "stream",
     "text": [
      "mark:76\n",
      "grade is C\n"
     ]
    }
   ],
   "source": [
    "#write a program to accept the mark from the user and print the grade\n",
    "#marks      grade\n",
    "#>90        A\n",
    "# 90-80     B\n",
    "# 80-70     C\n",
    "# 70-60     D\n",
    "# <60      FAIL\n",
    "\n",
    "\n",
    "\n",
    "x = int(input(\"mark:\"))\n",
    "if (x>90):\n",
    "    print(\"grade is A\")\n",
    "elif (90>x>80):\n",
    "    print(\"grade is B\")\n",
    "elif (80>x>70):\n",
    "    print(\"grade is C\")\n",
    "elif (70>x>60):\n",
    "    print(\"grade is D\")\n",
    "else :\n",
    "    print(\"FAIL\")"
   ]
  },
  {
   "cell_type": "code",
   "execution_count": null,
   "id": "d13c0d53",
   "metadata": {},
   "outputs": [],
   "source": []
  }
 ],
 "metadata": {
  "kernelspec": {
   "display_name": "Python 3 (ipykernel)",
   "language": "python",
   "name": "python3"
  },
  "language_info": {
   "codemirror_mode": {
    "name": "ipython",
    "version": 3
   },
   "file_extension": ".py",
   "mimetype": "text/x-python",
   "name": "python",
   "nbconvert_exporter": "python",
   "pygments_lexer": "ipython3",
   "version": "3.11.5"
  }
 },
 "nbformat": 4,
 "nbformat_minor": 5
}
